{
 "cells": [
  {
   "cell_type": "code",
   "execution_count": 1,
   "id": "legitimate-tennessee",
   "metadata": {
    "_cell_guid": "b1076dfc-b9ad-4769-8c92-a6c4dae69d19",
    "_uuid": "8f2839f25d086af736a60e9eeb907d3b93b6e0e5",
    "execution": {
     "iopub.execute_input": "2021-06-12T18:54:20.266271Z",
     "iopub.status.busy": "2021-06-12T18:54:20.265674Z",
     "iopub.status.idle": "2021-06-12T18:54:21.678509Z",
     "shell.execute_reply": "2021-06-12T18:54:21.679136Z",
     "shell.execute_reply.started": "2021-06-12T18:44:44.89914Z"
    },
    "papermill": {
     "duration": 1.479411,
     "end_time": "2021-06-12T18:54:21.679430",
     "exception": false,
     "start_time": "2021-06-12T18:54:20.200019",
     "status": "completed"
    },
    "tags": []
   },
   "outputs": [
    {
     "name": "stdout",
     "output_type": "stream",
     "text": [
      "/kaggle/input/titanic/train.csv\n",
      "/kaggle/input/titanic/test.csv\n",
      "/kaggle/input/titanic/gender_submission.csv\n"
     ]
    }
   ],
   "source": [
    "# This Python 3 environment comes with many helpful analytics libraries installed\n",
    "# It is defined by the kaggle/python Docker image: https://github.com/kaggle/docker-python\n",
    "# For example, here's several helpful packages to load\n",
    "\n",
    "import numpy as np # linear algebra\n",
    "import pandas as pd # data processing, CSV file I/O (e.g. pd.read_csv)\n",
    "from matplotlib import pyplot as plt\n",
    "import seaborn as sns\n",
    "from collections import Counter\n",
    "\n",
    "# Input data files are available in the read-only \"../input/\" directory\n",
    "# For example, running this (by clicking run or pressing Shift+Enter) will list all files under the input directory\n",
    "\n",
    "# for modeling\n",
    "from sklearn.model_selection import cross_val_score\n",
    "from sklearn.naive_bayes import GaussianNB\n",
    "from sklearn.linear_model import LogisticRegression\n",
    "from sklearn import tree\n",
    "from sklearn.neighbors import KNeighborsClassifier\n",
    "from sklearn.ensemble import RandomForestClassifier\n",
    "from sklearn.svm import SVC\n",
    "\n",
    "# machine learning libs\n",
    "# Machine learning models\n",
    "from sklearn.linear_model import LogisticRegression, Perceptron, SGDClassifier\n",
    "from sklearn.svm import SVC, LinearSVC\n",
    "from sklearn.ensemble import RandomForestClassifier\n",
    "from sklearn.neighbors import KNeighborsClassifier\n",
    "from sklearn.naive_bayes import GaussianNB\n",
    "from sklearn.tree import DecisionTreeClassifier\n",
    "from catboost import CatBoostClassifier\n",
    "\n",
    "\n",
    "# Hyperparameter tuning\n",
    "from sklearn.model_selection import GridSearchCV\n",
    "\n",
    "import os\n",
    "for dirname, _, filenames in os.walk('/kaggle/input'):\n",
    "    for filename in filenames:\n",
    "        print(os.path.join(dirname, filename))\n",
    "\n",
    "# You can write up to 20GB to the current directory (/kaggle/working/) that gets preserved as output when you create a version using \"Save & Run All\" \n",
    "# You can also write temporary files to /kaggle/temp/, but they won't be saved outside of the current session"
   ]
  },
  {
   "cell_type": "markdown",
   "id": "solar-omaha",
   "metadata": {
    "papermill": {
     "duration": 0.053753,
     "end_time": "2021-06-12T18:54:21.788533",
     "exception": false,
     "start_time": "2021-06-12T18:54:21.734780",
     "status": "completed"
    },
    "tags": []
   },
   "source": [
    "# EDA"
   ]
  },
  {
   "cell_type": "markdown",
   "id": "egyptian-relationship",
   "metadata": {
    "papermill": {
     "duration": 0.050647,
     "end_time": "2021-06-12T18:54:21.891751",
     "exception": false,
     "start_time": "2021-06-12T18:54:21.841104",
     "status": "completed"
    },
    "tags": []
   },
   "source": [
    "Read Data"
   ]
  },
  {
   "cell_type": "code",
   "execution_count": 2,
   "id": "hairy-small",
   "metadata": {
    "execution": {
     "iopub.execute_input": "2021-06-12T18:54:21.997303Z",
     "iopub.status.busy": "2021-06-12T18:54:21.996683Z",
     "iopub.status.idle": "2021-06-12T18:54:22.035363Z",
     "shell.execute_reply": "2021-06-12T18:54:22.035885Z",
     "shell.execute_reply.started": "2021-06-12T18:44:44.913091Z"
    },
    "papermill": {
     "duration": 0.092815,
     "end_time": "2021-06-12T18:54:22.036070",
     "exception": false,
     "start_time": "2021-06-12T18:54:21.943255",
     "status": "completed"
    },
    "tags": []
   },
   "outputs": [],
   "source": [
    "train = pd.read_csv('/kaggle/input/titanic/train.csv')\n",
    "test = pd.read_csv('/kaggle/input/titanic/test.csv')\n",
    "submission =  pd.read_csv('/kaggle/input/titanic/gender_submission.csv')"
   ]
  },
  {
   "cell_type": "markdown",
   "id": "prescribed-swing",
   "metadata": {
    "papermill": {
     "duration": 0.052302,
     "end_time": "2021-06-12T18:54:22.140854",
     "exception": false,
     "start_time": "2021-06-12T18:54:22.088552",
     "status": "completed"
    },
    "tags": []
   },
   "source": [
    "overall look on the first 10 rows of the data"
   ]
  },
  {
   "cell_type": "code",
   "execution_count": 3,
   "id": "acute-foundation",
   "metadata": {
    "execution": {
     "iopub.execute_input": "2021-06-12T18:54:22.249281Z",
     "iopub.status.busy": "2021-06-12T18:54:22.248643Z",
     "iopub.status.idle": "2021-06-12T18:54:22.278534Z",
     "shell.execute_reply": "2021-06-12T18:54:22.279030Z",
     "shell.execute_reply.started": "2021-06-12T18:44:44.945593Z"
    },
    "papermill": {
     "duration": 0.085179,
     "end_time": "2021-06-12T18:54:22.279201",
     "exception": false,
     "start_time": "2021-06-12T18:54:22.194022",
     "status": "completed"
    },
    "tags": []
   },
   "outputs": [
    {
     "data": {
      "text/html": [
       "<div>\n",
       "<style scoped>\n",
       "    .dataframe tbody tr th:only-of-type {\n",
       "        vertical-align: middle;\n",
       "    }\n",
       "\n",
       "    .dataframe tbody tr th {\n",
       "        vertical-align: top;\n",
       "    }\n",
       "\n",
       "    .dataframe thead th {\n",
       "        text-align: right;\n",
       "    }\n",
       "</style>\n",
       "<table border=\"1\" class=\"dataframe\">\n",
       "  <thead>\n",
       "    <tr style=\"text-align: right;\">\n",
       "      <th></th>\n",
       "      <th>PassengerId</th>\n",
       "      <th>Survived</th>\n",
       "      <th>Pclass</th>\n",
       "      <th>Name</th>\n",
       "      <th>Sex</th>\n",
       "      <th>Age</th>\n",
       "      <th>SibSp</th>\n",
       "      <th>Parch</th>\n",
       "      <th>Ticket</th>\n",
       "      <th>Fare</th>\n",
       "      <th>Cabin</th>\n",
       "      <th>Embarked</th>\n",
       "    </tr>\n",
       "  </thead>\n",
       "  <tbody>\n",
       "    <tr>\n",
       "      <th>0</th>\n",
       "      <td>1</td>\n",
       "      <td>0</td>\n",
       "      <td>3</td>\n",
       "      <td>Braund, Mr. Owen Harris</td>\n",
       "      <td>male</td>\n",
       "      <td>22.0</td>\n",
       "      <td>1</td>\n",
       "      <td>0</td>\n",
       "      <td>A/5 21171</td>\n",
       "      <td>7.2500</td>\n",
       "      <td>NaN</td>\n",
       "      <td>S</td>\n",
       "    </tr>\n",
       "    <tr>\n",
       "      <th>1</th>\n",
       "      <td>2</td>\n",
       "      <td>1</td>\n",
       "      <td>1</td>\n",
       "      <td>Cumings, Mrs. John Bradley (Florence Briggs Th...</td>\n",
       "      <td>female</td>\n",
       "      <td>38.0</td>\n",
       "      <td>1</td>\n",
       "      <td>0</td>\n",
       "      <td>PC 17599</td>\n",
       "      <td>71.2833</td>\n",
       "      <td>C85</td>\n",
       "      <td>C</td>\n",
       "    </tr>\n",
       "    <tr>\n",
       "      <th>2</th>\n",
       "      <td>3</td>\n",
       "      <td>1</td>\n",
       "      <td>3</td>\n",
       "      <td>Heikkinen, Miss. Laina</td>\n",
       "      <td>female</td>\n",
       "      <td>26.0</td>\n",
       "      <td>0</td>\n",
       "      <td>0</td>\n",
       "      <td>STON/O2. 3101282</td>\n",
       "      <td>7.9250</td>\n",
       "      <td>NaN</td>\n",
       "      <td>S</td>\n",
       "    </tr>\n",
       "    <tr>\n",
       "      <th>3</th>\n",
       "      <td>4</td>\n",
       "      <td>1</td>\n",
       "      <td>1</td>\n",
       "      <td>Futrelle, Mrs. Jacques Heath (Lily May Peel)</td>\n",
       "      <td>female</td>\n",
       "      <td>35.0</td>\n",
       "      <td>1</td>\n",
       "      <td>0</td>\n",
       "      <td>113803</td>\n",
       "      <td>53.1000</td>\n",
       "      <td>C123</td>\n",
       "      <td>S</td>\n",
       "    </tr>\n",
       "    <tr>\n",
       "      <th>4</th>\n",
       "      <td>5</td>\n",
       "      <td>0</td>\n",
       "      <td>3</td>\n",
       "      <td>Allen, Mr. William Henry</td>\n",
       "      <td>male</td>\n",
       "      <td>35.0</td>\n",
       "      <td>0</td>\n",
       "      <td>0</td>\n",
       "      <td>373450</td>\n",
       "      <td>8.0500</td>\n",
       "      <td>NaN</td>\n",
       "      <td>S</td>\n",
       "    </tr>\n",
       "    <tr>\n",
       "      <th>5</th>\n",
       "      <td>6</td>\n",
       "      <td>0</td>\n",
       "      <td>3</td>\n",
       "      <td>Moran, Mr. James</td>\n",
       "      <td>male</td>\n",
       "      <td>NaN</td>\n",
       "      <td>0</td>\n",
       "      <td>0</td>\n",
       "      <td>330877</td>\n",
       "      <td>8.4583</td>\n",
       "      <td>NaN</td>\n",
       "      <td>Q</td>\n",
       "    </tr>\n",
       "    <tr>\n",
       "      <th>6</th>\n",
       "      <td>7</td>\n",
       "      <td>0</td>\n",
       "      <td>1</td>\n",
       "      <td>McCarthy, Mr. Timothy J</td>\n",
       "      <td>male</td>\n",
       "      <td>54.0</td>\n",
       "      <td>0</td>\n",
       "      <td>0</td>\n",
       "      <td>17463</td>\n",
       "      <td>51.8625</td>\n",
       "      <td>E46</td>\n",
       "      <td>S</td>\n",
       "    </tr>\n",
       "    <tr>\n",
       "      <th>7</th>\n",
       "      <td>8</td>\n",
       "      <td>0</td>\n",
       "      <td>3</td>\n",
       "      <td>Palsson, Master. Gosta Leonard</td>\n",
       "      <td>male</td>\n",
       "      <td>2.0</td>\n",
       "      <td>3</td>\n",
       "      <td>1</td>\n",
       "      <td>349909</td>\n",
       "      <td>21.0750</td>\n",
       "      <td>NaN</td>\n",
       "      <td>S</td>\n",
       "    </tr>\n",
       "    <tr>\n",
       "      <th>8</th>\n",
       "      <td>9</td>\n",
       "      <td>1</td>\n",
       "      <td>3</td>\n",
       "      <td>Johnson, Mrs. Oscar W (Elisabeth Vilhelmina Berg)</td>\n",
       "      <td>female</td>\n",
       "      <td>27.0</td>\n",
       "      <td>0</td>\n",
       "      <td>2</td>\n",
       "      <td>347742</td>\n",
       "      <td>11.1333</td>\n",
       "      <td>NaN</td>\n",
       "      <td>S</td>\n",
       "    </tr>\n",
       "    <tr>\n",
       "      <th>9</th>\n",
       "      <td>10</td>\n",
       "      <td>1</td>\n",
       "      <td>2</td>\n",
       "      <td>Nasser, Mrs. Nicholas (Adele Achem)</td>\n",
       "      <td>female</td>\n",
       "      <td>14.0</td>\n",
       "      <td>1</td>\n",
       "      <td>0</td>\n",
       "      <td>237736</td>\n",
       "      <td>30.0708</td>\n",
       "      <td>NaN</td>\n",
       "      <td>C</td>\n",
       "    </tr>\n",
       "  </tbody>\n",
       "</table>\n",
       "</div>"
      ],
      "text/plain": [
       "   PassengerId  Survived  Pclass  \\\n",
       "0            1         0       3   \n",
       "1            2         1       1   \n",
       "2            3         1       3   \n",
       "3            4         1       1   \n",
       "4            5         0       3   \n",
       "5            6         0       3   \n",
       "6            7         0       1   \n",
       "7            8         0       3   \n",
       "8            9         1       3   \n",
       "9           10         1       2   \n",
       "\n",
       "                                                Name     Sex   Age  SibSp  \\\n",
       "0                            Braund, Mr. Owen Harris    male  22.0      1   \n",
       "1  Cumings, Mrs. John Bradley (Florence Briggs Th...  female  38.0      1   \n",
       "2                             Heikkinen, Miss. Laina  female  26.0      0   \n",
       "3       Futrelle, Mrs. Jacques Heath (Lily May Peel)  female  35.0      1   \n",
       "4                           Allen, Mr. William Henry    male  35.0      0   \n",
       "5                                   Moran, Mr. James    male   NaN      0   \n",
       "6                            McCarthy, Mr. Timothy J    male  54.0      0   \n",
       "7                     Palsson, Master. Gosta Leonard    male   2.0      3   \n",
       "8  Johnson, Mrs. Oscar W (Elisabeth Vilhelmina Berg)  female  27.0      0   \n",
       "9                Nasser, Mrs. Nicholas (Adele Achem)  female  14.0      1   \n",
       "\n",
       "   Parch            Ticket     Fare Cabin Embarked  \n",
       "0      0         A/5 21171   7.2500   NaN        S  \n",
       "1      0          PC 17599  71.2833   C85        C  \n",
       "2      0  STON/O2. 3101282   7.9250   NaN        S  \n",
       "3      0            113803  53.1000  C123        S  \n",
       "4      0            373450   8.0500   NaN        S  \n",
       "5      0            330877   8.4583   NaN        Q  \n",
       "6      0             17463  51.8625   E46        S  \n",
       "7      1            349909  21.0750   NaN        S  \n",
       "8      2            347742  11.1333   NaN        S  \n",
       "9      0            237736  30.0708   NaN        C  "
      ]
     },
     "execution_count": 3,
     "metadata": {},
     "output_type": "execute_result"
    }
   ],
   "source": [
    "train.head(10)"
   ]
  },
  {
   "cell_type": "markdown",
   "id": "helpful-polyester",
   "metadata": {
    "papermill": {
     "duration": 0.052583,
     "end_time": "2021-06-12T18:54:22.384560",
     "exception": false,
     "start_time": "2021-06-12T18:54:22.331977",
     "status": "completed"
    },
    "tags": []
   },
   "source": [
    "have an overall look on the data "
   ]
  },
  {
   "cell_type": "code",
   "execution_count": 4,
   "id": "selective-religious",
   "metadata": {
    "execution": {
     "iopub.execute_input": "2021-06-12T18:54:22.493245Z",
     "iopub.status.busy": "2021-06-12T18:54:22.492602Z",
     "iopub.status.idle": "2021-06-12T18:54:22.526367Z",
     "shell.execute_reply": "2021-06-12T18:54:22.525871Z",
     "shell.execute_reply.started": "2021-06-12T18:44:44.967733Z"
    },
    "papermill": {
     "duration": 0.089304,
     "end_time": "2021-06-12T18:54:22.526512",
     "exception": false,
     "start_time": "2021-06-12T18:54:22.437208",
     "status": "completed"
    },
    "tags": []
   },
   "outputs": [
    {
     "data": {
      "text/html": [
       "<div>\n",
       "<style scoped>\n",
       "    .dataframe tbody tr th:only-of-type {\n",
       "        vertical-align: middle;\n",
       "    }\n",
       "\n",
       "    .dataframe tbody tr th {\n",
       "        vertical-align: top;\n",
       "    }\n",
       "\n",
       "    .dataframe thead th {\n",
       "        text-align: right;\n",
       "    }\n",
       "</style>\n",
       "<table border=\"1\" class=\"dataframe\">\n",
       "  <thead>\n",
       "    <tr style=\"text-align: right;\">\n",
       "      <th></th>\n",
       "      <th>PassengerId</th>\n",
       "      <th>Survived</th>\n",
       "      <th>Pclass</th>\n",
       "      <th>Age</th>\n",
       "      <th>SibSp</th>\n",
       "      <th>Parch</th>\n",
       "      <th>Fare</th>\n",
       "    </tr>\n",
       "  </thead>\n",
       "  <tbody>\n",
       "    <tr>\n",
       "      <th>count</th>\n",
       "      <td>891.000000</td>\n",
       "      <td>891.000000</td>\n",
       "      <td>891.000000</td>\n",
       "      <td>714.000000</td>\n",
       "      <td>891.000000</td>\n",
       "      <td>891.000000</td>\n",
       "      <td>891.000000</td>\n",
       "    </tr>\n",
       "    <tr>\n",
       "      <th>mean</th>\n",
       "      <td>446.000000</td>\n",
       "      <td>0.383838</td>\n",
       "      <td>2.308642</td>\n",
       "      <td>29.699118</td>\n",
       "      <td>0.523008</td>\n",
       "      <td>0.381594</td>\n",
       "      <td>32.204208</td>\n",
       "    </tr>\n",
       "    <tr>\n",
       "      <th>std</th>\n",
       "      <td>257.353842</td>\n",
       "      <td>0.486592</td>\n",
       "      <td>0.836071</td>\n",
       "      <td>14.526497</td>\n",
       "      <td>1.102743</td>\n",
       "      <td>0.806057</td>\n",
       "      <td>49.693429</td>\n",
       "    </tr>\n",
       "    <tr>\n",
       "      <th>min</th>\n",
       "      <td>1.000000</td>\n",
       "      <td>0.000000</td>\n",
       "      <td>1.000000</td>\n",
       "      <td>0.420000</td>\n",
       "      <td>0.000000</td>\n",
       "      <td>0.000000</td>\n",
       "      <td>0.000000</td>\n",
       "    </tr>\n",
       "    <tr>\n",
       "      <th>25%</th>\n",
       "      <td>223.500000</td>\n",
       "      <td>0.000000</td>\n",
       "      <td>2.000000</td>\n",
       "      <td>20.125000</td>\n",
       "      <td>0.000000</td>\n",
       "      <td>0.000000</td>\n",
       "      <td>7.910400</td>\n",
       "    </tr>\n",
       "    <tr>\n",
       "      <th>50%</th>\n",
       "      <td>446.000000</td>\n",
       "      <td>0.000000</td>\n",
       "      <td>3.000000</td>\n",
       "      <td>28.000000</td>\n",
       "      <td>0.000000</td>\n",
       "      <td>0.000000</td>\n",
       "      <td>14.454200</td>\n",
       "    </tr>\n",
       "    <tr>\n",
       "      <th>75%</th>\n",
       "      <td>668.500000</td>\n",
       "      <td>1.000000</td>\n",
       "      <td>3.000000</td>\n",
       "      <td>38.000000</td>\n",
       "      <td>1.000000</td>\n",
       "      <td>0.000000</td>\n",
       "      <td>31.000000</td>\n",
       "    </tr>\n",
       "    <tr>\n",
       "      <th>max</th>\n",
       "      <td>891.000000</td>\n",
       "      <td>1.000000</td>\n",
       "      <td>3.000000</td>\n",
       "      <td>80.000000</td>\n",
       "      <td>8.000000</td>\n",
       "      <td>6.000000</td>\n",
       "      <td>512.329200</td>\n",
       "    </tr>\n",
       "  </tbody>\n",
       "</table>\n",
       "</div>"
      ],
      "text/plain": [
       "       PassengerId    Survived      Pclass         Age       SibSp  \\\n",
       "count   891.000000  891.000000  891.000000  714.000000  891.000000   \n",
       "mean    446.000000    0.383838    2.308642   29.699118    0.523008   \n",
       "std     257.353842    0.486592    0.836071   14.526497    1.102743   \n",
       "min       1.000000    0.000000    1.000000    0.420000    0.000000   \n",
       "25%     223.500000    0.000000    2.000000   20.125000    0.000000   \n",
       "50%     446.000000    0.000000    3.000000   28.000000    0.000000   \n",
       "75%     668.500000    1.000000    3.000000   38.000000    1.000000   \n",
       "max     891.000000    1.000000    3.000000   80.000000    8.000000   \n",
       "\n",
       "            Parch        Fare  \n",
       "count  891.000000  891.000000  \n",
       "mean     0.381594   32.204208  \n",
       "std      0.806057   49.693429  \n",
       "min      0.000000    0.000000  \n",
       "25%      0.000000    7.910400  \n",
       "50%      0.000000   14.454200  \n",
       "75%      0.000000   31.000000  \n",
       "max      6.000000  512.329200  "
      ]
     },
     "execution_count": 4,
     "metadata": {},
     "output_type": "execute_result"
    }
   ],
   "source": [
    "train.describe()"
   ]
  },
  {
   "cell_type": "markdown",
   "id": "statistical-variable",
   "metadata": {
    "papermill": {
     "duration": 0.051659,
     "end_time": "2021-06-12T18:54:22.630674",
     "exception": false,
     "start_time": "2021-06-12T18:54:22.579015",
     "status": "completed"
    },
    "tags": []
   },
   "source": [
    "number of rows and columns"
   ]
  },
  {
   "cell_type": "code",
   "execution_count": 5,
   "id": "interior-binary",
   "metadata": {
    "execution": {
     "iopub.execute_input": "2021-06-12T18:54:22.741990Z",
     "iopub.status.busy": "2021-06-12T18:54:22.741034Z",
     "iopub.status.idle": "2021-06-12T18:54:22.745284Z",
     "shell.execute_reply": "2021-06-12T18:54:22.745964Z",
     "shell.execute_reply.started": "2021-06-12T18:44:45.008491Z"
    },
    "papermill": {
     "duration": 0.063639,
     "end_time": "2021-06-12T18:54:22.746182",
     "exception": false,
     "start_time": "2021-06-12T18:54:22.682543",
     "status": "completed"
    },
    "tags": []
   },
   "outputs": [
    {
     "data": {
      "text/plain": [
       "(891, 12)"
      ]
     },
     "execution_count": 5,
     "metadata": {},
     "output_type": "execute_result"
    }
   ],
   "source": [
    "train.shape"
   ]
  },
  {
   "cell_type": "markdown",
   "id": "dramatic-doubt",
   "metadata": {
    "papermill": {
     "duration": 0.064343,
     "end_time": "2021-06-12T18:54:22.878591",
     "exception": false,
     "start_time": "2021-06-12T18:54:22.814248",
     "status": "completed"
    },
    "tags": []
   },
   "source": [
    "trying to understand the numric columns "
   ]
  },
  {
   "cell_type": "code",
   "execution_count": 6,
   "id": "sporting-settle",
   "metadata": {
    "execution": {
     "iopub.execute_input": "2021-06-12T18:54:22.987757Z",
     "iopub.status.busy": "2021-06-12T18:54:22.986855Z",
     "iopub.status.idle": "2021-06-12T18:54:23.250527Z",
     "shell.execute_reply": "2021-06-12T18:54:23.249885Z",
     "shell.execute_reply.started": "2021-06-12T18:44:45.019314Z"
    },
    "papermill": {
     "duration": 0.318886,
     "end_time": "2021-06-12T18:54:23.250670",
     "exception": false,
     "start_time": "2021-06-12T18:54:22.931784",
     "status": "completed"
    },
    "tags": []
   },
   "outputs": [
    {
     "name": "stdout",
     "output_type": "stream",
     "text": [
      "            Age      Fare     SibSp     Parch\n",
      "Age    1.000000  0.096067 -0.308247 -0.189119\n",
      "Fare   0.096067  1.000000  0.159651  0.216225\n",
      "SibSp -0.308247  0.159651  1.000000  0.414838\n",
      "Parch -0.189119  0.216225  0.414838  1.000000\n"
     ]
    },
    {
     "data": {
      "text/plain": [
       "<AxesSubplot:>"
      ]
     },
     "execution_count": 6,
     "metadata": {},
     "output_type": "execute_result"
    },
    {
     "data": {
      "image/png": "[encoded data removed]",
      "text/plain": [
       "<Figure size 432x288 with 2 Axes>"
      ]
     },
     "metadata": {
      "needs_background": "light"
     },
     "output_type": "display_data"
    }
   ],
   "source": [
    "numric_train = train[['Age', 'Fare', 'SibSp','Parch']]\n",
    "print(numric_train.corr())\n",
    "sns.heatmap(numric_train.corr())"
   ]
  },
  {
   "cell_type": "markdown",
   "id": "opponent-casting",
   "metadata": {
    "papermill": {
     "duration": 0.053926,
     "end_time": "2021-06-12T18:54:23.358721",
     "exception": false,
     "start_time": "2021-06-12T18:54:23.304795",
     "status": "completed"
    },
    "tags": []
   },
   "source": [
    "the number of people died and survived"
   ]
  },
  {
   "cell_type": "code",
   "execution_count": 7,
   "id": "interstate-scroll",
   "metadata": {
    "execution": {
     "iopub.execute_input": "2021-06-12T18:54:23.474259Z",
     "iopub.status.busy": "2021-06-12T18:54:23.473363Z",
     "iopub.status.idle": "2021-06-12T18:54:23.477133Z",
     "shell.execute_reply": "2021-06-12T18:54:23.477523Z",
     "shell.execute_reply.started": "2021-06-12T18:44:45.281999Z"
    },
    "papermill": {
     "duration": 0.065277,
     "end_time": "2021-06-12T18:54:23.477692",
     "exception": false,
     "start_time": "2021-06-12T18:54:23.412415",
     "status": "completed"
    },
    "tags": []
   },
   "outputs": [
    {
     "data": {
      "text/plain": [
       "0    549\n",
       "1    342\n",
       "Name: Survived, dtype: int64"
      ]
     },
     "execution_count": 7,
     "metadata": {},
     "output_type": "execute_result"
    }
   ],
   "source": [
    "train['Survived'].value_counts()"
   ]
  },
  {
   "cell_type": "markdown",
   "id": "suited-orange",
   "metadata": {
    "papermill": {
     "duration": 0.052947,
     "end_time": "2021-06-12T18:54:23.584384",
     "exception": false,
     "start_time": "2021-06-12T18:54:23.531437",
     "status": "completed"
    },
    "tags": []
   },
   "source": [
    "a function to show a graph of number of the data"
   ]
  },
  {
   "cell_type": "code",
   "execution_count": 8,
   "id": "worse-thumbnail",
   "metadata": {
    "execution": {
     "iopub.execute_input": "2021-06-12T18:54:23.696944Z",
     "iopub.status.busy": "2021-06-12T18:54:23.696361Z",
     "iopub.status.idle": "2021-06-12T18:54:23.699305Z",
     "shell.execute_reply": "2021-06-12T18:54:23.698852Z",
     "shell.execute_reply.started": "2021-06-12T18:44:45.293182Z"
    },
    "papermill": {
     "duration": 0.061197,
     "end_time": "2021-06-12T18:54:23.699443",
     "exception": false,
     "start_time": "2021-06-12T18:54:23.638246",
     "status": "completed"
    },
    "tags": []
   },
   "outputs": [],
   "source": [
    "def show_figure(coulmn, colors):\n",
    "    plt.figure()\n",
    "    plt.bar(list(train[coulmn].value_counts().keys()), list(train[coulmn].value_counts()), color= colors)\n",
    "    plt.xlabel(coulmn)"
   ]
  },
  {
   "cell_type": "code",
   "execution_count": 9,
   "id": "rotary-recovery",
   "metadata": {
    "execution": {
     "iopub.execute_input": "2021-06-12T18:54:23.835323Z",
     "iopub.status.busy": "2021-06-12T18:54:23.822780Z",
     "iopub.status.idle": "2021-06-12T18:54:23.933761Z",
     "shell.execute_reply": "2021-06-12T18:54:23.933251Z",
     "shell.execute_reply.started": "2021-06-12T18:44:45.303952Z"
    },
    "papermill": {
     "duration": 0.17916,
     "end_time": "2021-06-12T18:54:23.933922",
     "exception": false,
     "start_time": "2021-06-12T18:54:23.754762",
     "status": "completed"
    },
    "tags": []
   },
   "outputs": [
    {
     "data": {
      "image/png": "[encoded data removed]",
      "text/plain": [
       "<Figure size 432x288 with 1 Axes>"
      ]
     },
     "metadata": {
      "needs_background": "light"
     },
     "output_type": "display_data"
    }
   ],
   "source": [
    "show_figure('Survived',[\"r\", \"b\"])"
   ]
  },
  {
   "cell_type": "markdown",
   "id": "attached-links",
   "metadata": {
    "papermill": {
     "duration": 0.054328,
     "end_time": "2021-06-12T18:54:24.042528",
     "exception": false,
     "start_time": "2021-06-12T18:54:23.988200",
     "status": "completed"
    },
    "tags": []
   },
   "source": [
    "the distribution of the Pclass column"
   ]
  },
  {
   "cell_type": "code",
   "execution_count": 10,
   "id": "bridal-sweet",
   "metadata": {
    "execution": {
     "iopub.execute_input": "2021-06-12T18:54:24.279274Z",
     "iopub.status.busy": "2021-06-12T18:54:24.277352Z",
     "iopub.status.idle": "2021-06-12T18:54:24.379707Z",
     "shell.execute_reply": "2021-06-12T18:54:24.379157Z",
     "shell.execute_reply.started": "2021-06-12T18:44:45.453399Z"
    },
    "papermill": {
     "duration": 0.282112,
     "end_time": "2021-06-12T18:54:24.379858",
     "exception": false,
     "start_time": "2021-06-12T18:54:24.097746",
     "status": "completed"
    },
    "tags": []
   },
   "outputs": [
    {
     "data": {
      "image/png": "[encoded data removed]",
      "text/plain": [
       "<Figure size 432x288 with 1 Axes>"
      ]
     },
     "metadata": {
      "needs_background": "light"
     },
     "output_type": "display_data"
    }
   ],
   "source": [
    "show_figure('Pclass',[\"r\", \"b\", \"g\"])"
   ]
  },
  {
   "cell_type": "markdown",
   "id": "traditional-springer",
   "metadata": {
    "papermill": {
     "duration": 0.054356,
     "end_time": "2021-06-12T18:54:24.490030",
     "exception": false,
     "start_time": "2021-06-12T18:54:24.435674",
     "status": "completed"
    },
    "tags": []
   },
   "source": [
    "the probabilty of surviving if you were from the the 1st class is higher than 2nd wich is higher than the 3rd"
   ]
  },
  {
   "cell_type": "code",
   "execution_count": 11,
   "id": "distinct-large",
   "metadata": {
    "execution": {
     "iopub.execute_input": "2021-06-12T18:54:24.606282Z",
     "iopub.status.busy": "2021-06-12T18:54:24.604435Z",
     "iopub.status.idle": "2021-06-12T18:54:24.805891Z",
     "shell.execute_reply": "2021-06-12T18:54:24.805425Z",
     "shell.execute_reply.started": "2021-06-12T18:44:45.592236Z"
    },
    "papermill": {
     "duration": 0.261473,
     "end_time": "2021-06-12T18:54:24.806032",
     "exception": false,
     "start_time": "2021-06-12T18:54:24.544559",
     "status": "completed"
    },
    "tags": []
   },
   "outputs": [
    {
     "data": {
      "text/plain": [
       "Text(0.5, 1.0, 'Survival Probability by Pclass')"
      ]
     },
     "execution_count": 11,
     "metadata": {},
     "output_type": "execute_result"
    },
    {
     "data": {
      "image/png": "[encoded data removed]",
      "text/plain": [
       "<Figure size 432x288 with 1 Axes>"
      ]
     },
     "metadata": {
      "needs_background": "light"
     },
     "output_type": "display_data"
    }
   ],
   "source": [
    "sns.barplot(x = 'Pclass', y ='Survived', data = train)\n",
    "plt.ylabel('Survival Probability')\n",
    "plt.title('Survival Probability by Pclass')"
   ]
  },
  {
   "cell_type": "markdown",
   "id": "nutritional-window",
   "metadata": {
    "papermill": {
     "duration": 0.054928,
     "end_time": "2021-06-12T18:54:24.916648",
     "exception": false,
     "start_time": "2021-06-12T18:54:24.861720",
     "status": "completed"
    },
    "tags": []
   },
   "source": [
    "females have the highest probabilty in all class"
   ]
  },
  {
   "cell_type": "code",
   "execution_count": 12,
   "id": "wireless-brazil",
   "metadata": {
    "execution": {
     "iopub.execute_input": "2021-06-12T18:54:25.034868Z",
     "iopub.status.busy": "2021-06-12T18:54:25.033828Z",
     "iopub.status.idle": "2021-06-12T18:54:25.471184Z",
     "shell.execute_reply": "2021-06-12T18:54:25.470723Z",
     "shell.execute_reply.started": "2021-06-12T18:44:45.807089Z"
    },
    "papermill": {
     "duration": 0.499063,
     "end_time": "2021-06-12T18:54:25.471313",
     "exception": false,
     "start_time": "2021-06-12T18:54:24.972250",
     "status": "completed"
    },
    "tags": []
   },
   "outputs": [
    {
     "data": {
      "text/plain": [
       "Text(13.394687499999996, 0.5, 'Survival Probability')"
      ]
     },
     "execution_count": 12,
     "metadata": {},
     "output_type": "execute_result"
    },
    {
     "data": {
      "image/png": "[encoded data removed]",
      "text/plain": [
       "<Figure size 430.5x360 with 1 Axes>"
      ]
     },
     "metadata": {
      "needs_background": "light"
     },
     "output_type": "display_data"
    }
   ],
   "source": [
    "g = sns.catplot(x = 'Pclass', y = 'Survived', hue = 'Sex', data = train, kind = 'bar')\n",
    "g.despine(left = True)\n",
    "plt.ylabel('Survival Probability')"
   ]
  },
  {
   "cell_type": "code",
   "execution_count": 13,
   "id": "indian-correspondence",
   "metadata": {
    "execution": {
     "iopub.execute_input": "2021-06-12T18:54:25.591100Z",
     "iopub.status.busy": "2021-06-12T18:54:25.590273Z",
     "iopub.status.idle": "2021-06-12T18:54:25.594148Z",
     "shell.execute_reply": "2021-06-12T18:54:25.593637Z",
     "shell.execute_reply.started": "2021-06-12T18:44:46.258373Z"
    },
    "papermill": {
     "duration": 0.066261,
     "end_time": "2021-06-12T18:54:25.594285",
     "exception": false,
     "start_time": "2021-06-12T18:54:25.528024",
     "status": "completed"
    },
    "tags": []
   },
   "outputs": [
    {
     "data": {
      "text/plain": [
       "male      577\n",
       "female    314\n",
       "Name: Sex, dtype: int64"
      ]
     },
     "execution_count": 13,
     "metadata": {},
     "output_type": "execute_result"
    }
   ],
   "source": [
    "train['Sex'].value_counts()"
   ]
  },
  {
   "cell_type": "code",
   "execution_count": 14,
   "id": "judicial-witch",
   "metadata": {
    "execution": {
     "iopub.execute_input": "2021-06-12T18:54:25.732969Z",
     "iopub.status.busy": "2021-06-12T18:54:25.730420Z",
     "iopub.status.idle": "2021-06-12T18:54:25.807777Z",
     "shell.execute_reply": "2021-06-12T18:54:25.807308Z",
     "shell.execute_reply.started": "2021-06-12T18:44:46.266858Z"
    },
    "papermill": {
     "duration": 0.156682,
     "end_time": "2021-06-12T18:54:25.807936",
     "exception": false,
     "start_time": "2021-06-12T18:54:25.651254",
     "status": "completed"
    },
    "tags": []
   },
   "outputs": [
    {
     "data": {
      "image/png": "[encoded data removed]",
      "text/plain": [
       "<Figure size 432x288 with 1 Axes>"
      ]
     },
     "metadata": {
      "needs_background": "light"
     },
     "output_type": "display_data"
    }
   ],
   "source": [
    "show_figure('Sex',[\"r\", \"b\"])"
   ]
  },
  {
   "cell_type": "code",
   "execution_count": 15,
   "id": "forbidden-night",
   "metadata": {
    "execution": {
     "iopub.execute_input": "2021-06-12T18:54:25.927275Z",
     "iopub.status.busy": "2021-06-12T18:54:25.926547Z",
     "iopub.status.idle": "2021-06-12T18:54:26.098312Z",
     "shell.execute_reply": "2021-06-12T18:54:26.098714Z",
     "shell.execute_reply.started": "2021-06-12T18:44:46.378138Z"
    },
    "papermill": {
     "duration": 0.233495,
     "end_time": "2021-06-12T18:54:26.098907",
     "exception": false,
     "start_time": "2021-06-12T18:54:25.865412",
     "status": "completed"
    },
    "tags": []
   },
   "outputs": [
    {
     "data": {
      "text/plain": [
       "Text(0.5, 0, 'Age')"
      ]
     },
     "execution_count": 15,
     "metadata": {},
     "output_type": "execute_result"
    },
    {
     "data": {
      "image/png": "[encoded data removed]",
      "text/plain": [
       "<Figure size 432x288 with 1 Axes>"
      ]
     },
     "metadata": {
      "needs_background": "light"
     },
     "output_type": "display_data"
    }
   ],
   "source": [
    "train.Age.plot.hist()\n",
    "plt.xlabel(\"Age\")"
   ]
  },
  {
   "cell_type": "code",
   "execution_count": 16,
   "id": "authorized-value",
   "metadata": {
    "execution": {
     "iopub.execute_input": "2021-06-12T18:54:26.218086Z",
     "iopub.status.busy": "2021-06-12T18:54:26.217429Z",
     "iopub.status.idle": "2021-06-12T18:54:26.224378Z",
     "shell.execute_reply": "2021-06-12T18:54:26.224913Z",
     "shell.execute_reply.started": "2021-06-12T18:44:46.548408Z"
    },
    "papermill": {
     "duration": 0.067559,
     "end_time": "2021-06-12T18:54:26.225094",
     "exception": false,
     "start_time": "2021-06-12T18:54:26.157535",
     "status": "completed"
    },
    "tags": []
   },
   "outputs": [
    {
     "data": {
      "text/plain": [
       "PassengerId      0\n",
       "Survived         0\n",
       "Pclass           0\n",
       "Name             0\n",
       "Sex              0\n",
       "Age            177\n",
       "SibSp            0\n",
       "Parch            0\n",
       "Ticket           0\n",
       "Fare             0\n",
       "Cabin          687\n",
       "Embarked         2\n",
       "dtype: int64"
      ]
     },
     "execution_count": 16,
     "metadata": {},
     "output_type": "execute_result"
    }
   ],
   "source": [
    "train.isnull().sum()"
   ]
  },
  {
   "cell_type": "markdown",
   "id": "literary-cliff",
   "metadata": {
    "papermill": {
     "duration": 0.058526,
     "end_time": "2021-06-12T18:54:26.343152",
     "exception": false,
     "start_time": "2021-06-12T18:54:26.284626",
     "status": "completed"
    },
    "tags": []
   },
   "source": [
    "the type of the data, so we can manipulate it"
   ]
  },
  {
   "cell_type": "code",
   "execution_count": 17,
   "id": "explicit-connecticut",
   "metadata": {
    "execution": {
     "iopub.execute_input": "2021-06-12T18:54:26.466274Z",
     "iopub.status.busy": "2021-06-12T18:54:26.465429Z",
     "iopub.status.idle": "2021-06-12T18:54:26.469219Z",
     "shell.execute_reply": "2021-06-12T18:54:26.468772Z",
     "shell.execute_reply.started": "2021-06-12T18:44:46.560448Z"
    },
    "papermill": {
     "duration": 0.067831,
     "end_time": "2021-06-12T18:54:26.469350",
     "exception": false,
     "start_time": "2021-06-12T18:54:26.401519",
     "status": "completed"
    },
    "tags": []
   },
   "outputs": [
    {
     "data": {
      "text/plain": [
       "PassengerId      int64\n",
       "Survived         int64\n",
       "Pclass           int64\n",
       "Name            object\n",
       "Sex             object\n",
       "Age            float64\n",
       "SibSp            int64\n",
       "Parch            int64\n",
       "Ticket          object\n",
       "Fare           float64\n",
       "Cabin           object\n",
       "Embarked        object\n",
       "dtype: object"
      ]
     },
     "execution_count": 17,
     "metadata": {},
     "output_type": "execute_result"
    }
   ],
   "source": [
    "train.dtypes"
   ]
  },
  {
   "cell_type": "code",
   "execution_count": 18,
   "id": "verified-reduction",
   "metadata": {
    "execution": {
     "iopub.execute_input": "2021-06-12T18:54:26.603985Z",
     "iopub.status.busy": "2021-06-12T18:54:26.603103Z",
     "iopub.status.idle": "2021-06-12T18:54:26.607403Z",
     "shell.execute_reply": "2021-06-12T18:54:26.606925Z",
     "shell.execute_reply.started": "2021-06-12T18:44:46.578037Z"
    },
    "papermill": {
     "duration": 0.079135,
     "end_time": "2021-06-12T18:54:26.607537",
     "exception": false,
     "start_time": "2021-06-12T18:54:26.528402",
     "status": "completed"
    },
    "tags": []
   },
   "outputs": [
    {
     "data": {
      "text/html": [
       "<div>\n",
       "<style scoped>\n",
       "    .dataframe tbody tr th:only-of-type {\n",
       "        vertical-align: middle;\n",
       "    }\n",
       "\n",
       "    .dataframe tbody tr th {\n",
       "        vertical-align: top;\n",
       "    }\n",
       "\n",
       "    .dataframe thead th {\n",
       "        text-align: right;\n",
       "    }\n",
       "</style>\n",
       "<table border=\"1\" class=\"dataframe\">\n",
       "  <thead>\n",
       "    <tr style=\"text-align: right;\">\n",
       "      <th></th>\n",
       "      <th>PassengerId</th>\n",
       "      <th>Survived</th>\n",
       "      <th>Pclass</th>\n",
       "      <th>Name</th>\n",
       "      <th>Sex</th>\n",
       "      <th>Age</th>\n",
       "      <th>SibSp</th>\n",
       "      <th>Parch</th>\n",
       "      <th>Ticket</th>\n",
       "      <th>Fare</th>\n",
       "      <th>Cabin</th>\n",
       "      <th>Embarked</th>\n",
       "    </tr>\n",
       "  </thead>\n",
       "  <tbody>\n",
       "    <tr>\n",
       "      <th>0</th>\n",
       "      <td>1</td>\n",
       "      <td>0</td>\n",
       "      <td>3</td>\n",
       "      <td>Braund, Mr. Owen Harris</td>\n",
       "      <td>male</td>\n",
       "      <td>22.0</td>\n",
       "      <td>1</td>\n",
       "      <td>0</td>\n",
       "      <td>A/5 21171</td>\n",
       "      <td>7.2500</td>\n",
       "      <td>NaN</td>\n",
       "      <td>S</td>\n",
       "    </tr>\n",
       "    <tr>\n",
       "      <th>1</th>\n",
       "      <td>2</td>\n",
       "      <td>1</td>\n",
       "      <td>1</td>\n",
       "      <td>Cumings, Mrs. John Bradley (Florence Briggs Th...</td>\n",
       "      <td>female</td>\n",
       "      <td>38.0</td>\n",
       "      <td>1</td>\n",
       "      <td>0</td>\n",
       "      <td>PC 17599</td>\n",
       "      <td>71.2833</td>\n",
       "      <td>C85</td>\n",
       "      <td>C</td>\n",
       "    </tr>\n",
       "    <tr>\n",
       "      <th>2</th>\n",
       "      <td>3</td>\n",
       "      <td>1</td>\n",
       "      <td>3</td>\n",
       "      <td>Heikkinen, Miss. Laina</td>\n",
       "      <td>female</td>\n",
       "      <td>26.0</td>\n",
       "      <td>0</td>\n",
       "      <td>0</td>\n",
       "      <td>STON/O2. 3101282</td>\n",
       "      <td>7.9250</td>\n",
       "      <td>NaN</td>\n",
       "      <td>S</td>\n",
       "    </tr>\n",
       "    <tr>\n",
       "      <th>3</th>\n",
       "      <td>4</td>\n",
       "      <td>1</td>\n",
       "      <td>1</td>\n",
       "      <td>Futrelle, Mrs. Jacques Heath (Lily May Peel)</td>\n",
       "      <td>female</td>\n",
       "      <td>35.0</td>\n",
       "      <td>1</td>\n",
       "      <td>0</td>\n",
       "      <td>113803</td>\n",
       "      <td>53.1000</td>\n",
       "      <td>C123</td>\n",
       "      <td>S</td>\n",
       "    </tr>\n",
       "    <tr>\n",
       "      <th>4</th>\n",
       "      <td>5</td>\n",
       "      <td>0</td>\n",
       "      <td>3</td>\n",
       "      <td>Allen, Mr. William Henry</td>\n",
       "      <td>male</td>\n",
       "      <td>35.0</td>\n",
       "      <td>0</td>\n",
       "      <td>0</td>\n",
       "      <td>373450</td>\n",
       "      <td>8.0500</td>\n",
       "      <td>NaN</td>\n",
       "      <td>S</td>\n",
       "    </tr>\n",
       "    <tr>\n",
       "      <th>5</th>\n",
       "      <td>6</td>\n",
       "      <td>0</td>\n",
       "      <td>3</td>\n",
       "      <td>Moran, Mr. James</td>\n",
       "      <td>male</td>\n",
       "      <td>NaN</td>\n",
       "      <td>0</td>\n",
       "      <td>0</td>\n",
       "      <td>330877</td>\n",
       "      <td>8.4583</td>\n",
       "      <td>NaN</td>\n",
       "      <td>Q</td>\n",
       "    </tr>\n",
       "    <tr>\n",
       "      <th>6</th>\n",
       "      <td>7</td>\n",
       "      <td>0</td>\n",
       "      <td>1</td>\n",
       "      <td>McCarthy, Mr. Timothy J</td>\n",
       "      <td>male</td>\n",
       "      <td>54.0</td>\n",
       "      <td>0</td>\n",
       "      <td>0</td>\n",
       "      <td>17463</td>\n",
       "      <td>51.8625</td>\n",
       "      <td>E46</td>\n",
       "      <td>S</td>\n",
       "    </tr>\n",
       "    <tr>\n",
       "      <th>7</th>\n",
       "      <td>8</td>\n",
       "      <td>0</td>\n",
       "      <td>3</td>\n",
       "      <td>Palsson, Master. Gosta Leonard</td>\n",
       "      <td>male</td>\n",
       "      <td>2.0</td>\n",
       "      <td>3</td>\n",
       "      <td>1</td>\n",
       "      <td>349909</td>\n",
       "      <td>21.0750</td>\n",
       "      <td>NaN</td>\n",
       "      <td>S</td>\n",
       "    </tr>\n",
       "    <tr>\n",
       "      <th>8</th>\n",
       "      <td>9</td>\n",
       "      <td>1</td>\n",
       "      <td>3</td>\n",
       "      <td>Johnson, Mrs. Oscar W (Elisabeth Vilhelmina Berg)</td>\n",
       "      <td>female</td>\n",
       "      <td>27.0</td>\n",
       "      <td>0</td>\n",
       "      <td>2</td>\n",
       "      <td>347742</td>\n",
       "      <td>11.1333</td>\n",
       "      <td>NaN</td>\n",
       "      <td>S</td>\n",
       "    </tr>\n",
       "    <tr>\n",
       "      <th>9</th>\n",
       "      <td>10</td>\n",
       "      <td>1</td>\n",
       "      <td>2</td>\n",
       "      <td>Nasser, Mrs. Nicholas (Adele Achem)</td>\n",
       "      <td>female</td>\n",
       "      <td>14.0</td>\n",
       "      <td>1</td>\n",
       "      <td>0</td>\n",
       "      <td>237736</td>\n",
       "      <td>30.0708</td>\n",
       "      <td>NaN</td>\n",
       "      <td>C</td>\n",
       "    </tr>\n",
       "  </tbody>\n",
       "</table>\n",
       "</div>"
      ],
      "text/plain": [
       "   PassengerId  Survived  Pclass  \\\n",
       "0            1         0       3   \n",
       "1            2         1       1   \n",
       "2            3         1       3   \n",
       "3            4         1       1   \n",
       "4            5         0       3   \n",
       "5            6         0       3   \n",
       "6            7         0       1   \n",
       "7            8         0       3   \n",
       "8            9         1       3   \n",
       "9           10         1       2   \n",
       "\n",
       "                                                Name     Sex   Age  SibSp  \\\n",
       "0                            Braund, Mr. Owen Harris    male  22.0      1   \n",
       "1  Cumings, Mrs. John Bradley (Florence Briggs Th...  female  38.0      1   \n",
       "2                             Heikkinen, Miss. Laina  female  26.0      0   \n",
       "3       Futrelle, Mrs. Jacques Heath (Lily May Peel)  female  35.0      1   \n",
       "4                           Allen, Mr. William Henry    male  35.0      0   \n",
       "5                                   Moran, Mr. James    male   NaN      0   \n",
       "6                            McCarthy, Mr. Timothy J    male  54.0      0   \n",
       "7                     Palsson, Master. Gosta Leonard    male   2.0      3   \n",
       "8  Johnson, Mrs. Oscar W (Elisabeth Vilhelmina Berg)  female  27.0      0   \n",
       "9                Nasser, Mrs. Nicholas (Adele Achem)  female  14.0      1   \n",
       "\n",
       "   Parch            Ticket     Fare Cabin Embarked  \n",
       "0      0         A/5 21171   7.2500   NaN        S  \n",
       "1      0          PC 17599  71.2833   C85        C  \n",
       "2      0  STON/O2. 3101282   7.9250   NaN        S  \n",
       "3      0            113803  53.1000  C123        S  \n",
       "4      0            373450   8.0500   NaN        S  \n",
       "5      0            330877   8.4583   NaN        Q  \n",
       "6      0             17463  51.8625   E46        S  \n",
       "7      1            349909  21.0750   NaN        S  \n",
       "8      2            347742  11.1333   NaN        S  \n",
       "9      0            237736  30.0708   NaN        C  "
      ]
     },
     "execution_count": 18,
     "metadata": {},
     "output_type": "execute_result"
    }
   ],
   "source": [
    "train.head(10)\n"
   ]
  },
  {
   "cell_type": "markdown",
   "id": "native-secretary",
   "metadata": {
    "papermill": {
     "duration": 0.059062,
     "end_time": "2021-06-12T18:54:26.726336",
     "exception": false,
     "start_time": "2021-06-12T18:54:26.667274",
     "status": "completed"
    },
    "tags": []
   },
   "source": [
    "understanding the Cabin column"
   ]
  },
  {
   "cell_type": "code",
   "execution_count": 19,
   "id": "fitting-grave",
   "metadata": {
    "execution": {
     "iopub.execute_input": "2021-06-12T18:54:26.847739Z",
     "iopub.status.busy": "2021-06-12T18:54:26.847150Z",
     "iopub.status.idle": "2021-06-12T18:54:26.852613Z",
     "shell.execute_reply": "2021-06-12T18:54:26.853061Z",
     "shell.execute_reply.started": "2021-06-12T18:44:46.604504Z"
    },
    "papermill": {
     "duration": 0.067835,
     "end_time": "2021-06-12T18:54:26.853224",
     "exception": false,
     "start_time": "2021-06-12T18:54:26.785389",
     "status": "completed"
    },
    "tags": []
   },
   "outputs": [
    {
     "data": {
      "text/plain": [
       "0      NaN\n",
       "1      C85\n",
       "2      NaN\n",
       "3     C123\n",
       "4      NaN\n",
       "5      NaN\n",
       "6      E46\n",
       "7      NaN\n",
       "8      NaN\n",
       "9      NaN\n",
       "10      G6\n",
       "11    C103\n",
       "12     NaN\n",
       "13     NaN\n",
       "14     NaN\n",
       "15     NaN\n",
       "16     NaN\n",
       "17     NaN\n",
       "18     NaN\n",
       "19     NaN\n",
       "Name: Cabin, dtype: object"
      ]
     },
     "execution_count": 19,
     "metadata": {},
     "output_type": "execute_result"
    }
   ],
   "source": [
    "train['Cabin'].head(20)"
   ]
  },
  {
   "cell_type": "markdown",
   "id": "wrapped-economy",
   "metadata": {
    "papermill": {
     "duration": 0.058607,
     "end_time": "2021-06-12T18:54:26.971098",
     "exception": false,
     "start_time": "2021-06-12T18:54:26.912491",
     "status": "completed"
    },
    "tags": []
   },
   "source": [
    "add a new column for the title to better understand the characteristics of the data"
   ]
  },
  {
   "cell_type": "code",
   "execution_count": 20,
   "id": "unlimited-highland",
   "metadata": {
    "execution": {
     "iopub.execute_input": "2021-06-12T18:54:27.093455Z",
     "iopub.status.busy": "2021-06-12T18:54:27.092882Z",
     "iopub.status.idle": "2021-06-12T18:54:27.102694Z",
     "shell.execute_reply": "2021-06-12T18:54:27.102246Z",
     "shell.execute_reply.started": "2021-06-12T18:44:46.614653Z"
    },
    "papermill": {
     "duration": 0.071683,
     "end_time": "2021-06-12T18:54:27.102845",
     "exception": false,
     "start_time": "2021-06-12T18:54:27.031162",
     "status": "completed"
    },
    "tags": []
   },
   "outputs": [
    {
     "data": {
      "text/plain": [
       "Mr              517\n",
       "Miss            182\n",
       "Mrs             125\n",
       "Master           40\n",
       "Dr                7\n",
       "Rev               6\n",
       "Mlle              2\n",
       "Col               2\n",
       "Major             2\n",
       "Lady              1\n",
       "Ms                1\n",
       "Capt              1\n",
       "Sir               1\n",
       "Jonkheer          1\n",
       "Don               1\n",
       "Mme               1\n",
       "the Countess      1\n",
       "Name: title, dtype: int64"
      ]
     },
     "execution_count": 20,
     "metadata": {},
     "output_type": "execute_result"
    }
   ],
   "source": [
    "train['title'] = train.Name.apply(lambda x: x.split(',')[1].split('.')[0].strip())\n",
    "train['title'].value_counts()"
   ]
  },
  {
   "cell_type": "markdown",
   "id": "caroline-spelling",
   "metadata": {
    "papermill": {
     "duration": 0.059084,
     "end_time": "2021-06-12T18:54:27.221415",
     "exception": false,
     "start_time": "2021-06-12T18:54:27.162331",
     "status": "completed"
    },
    "tags": []
   },
   "source": [
    "change the sex coulmn into an int representation for easier vaisulization\n",
    "no null values so no need to fill any gabs"
   ]
  },
  {
   "cell_type": "code",
   "execution_count": 21,
   "id": "statewide-premiere",
   "metadata": {
    "execution": {
     "iopub.execute_input": "2021-06-12T18:54:27.347240Z",
     "iopub.status.busy": "2021-06-12T18:54:27.346583Z",
     "iopub.status.idle": "2021-06-12T18:54:27.348976Z",
     "shell.execute_reply": "2021-06-12T18:54:27.349409Z",
     "shell.execute_reply.started": "2021-06-12T18:44:46.633919Z"
    },
    "papermill": {
     "duration": 0.068547,
     "end_time": "2021-06-12T18:54:27.349569",
     "exception": false,
     "start_time": "2021-06-12T18:54:27.281022",
     "status": "completed"
    },
    "tags": []
   },
   "outputs": [],
   "source": [
    "train['Sex'] = np.where(train['Sex'] == 'female', 1, 0)\n",
    "test['Sex'] = np.where(test['Sex'] == 'female', 1, 0)"
   ]
  },
  {
   "cell_type": "markdown",
   "id": "pressed-execution",
   "metadata": {
    "papermill": {
     "duration": 0.059291,
     "end_time": "2021-06-12T18:54:27.468466",
     "exception": false,
     "start_time": "2021-06-12T18:54:27.409175",
     "status": "completed"
    },
    "tags": []
   },
   "source": [
    "Detect and drop the outliers from all the numaric columns (Age, SibSp,Parch, Fare)"
   ]
  },
  {
   "cell_type": "code",
   "execution_count": 22,
   "id": "german-tomato",
   "metadata": {
    "execution": {
     "iopub.execute_input": "2021-06-12T18:54:27.590008Z",
     "iopub.status.busy": "2021-06-12T18:54:27.589410Z",
     "iopub.status.idle": "2021-06-12T18:54:27.624186Z",
     "shell.execute_reply": "2021-06-12T18:54:27.623659Z",
     "shell.execute_reply.started": "2021-06-12T18:44:46.652848Z"
    },
    "papermill": {
     "duration": 0.096562,
     "end_time": "2021-06-12T18:54:27.624335",
     "exception": false,
     "start_time": "2021-06-12T18:54:27.527773",
     "status": "completed"
    },
    "tags": []
   },
   "outputs": [],
   "source": [
    "def detect_outliers(data, n, columns):\n",
    "    outlier_indices = [] \n",
    "    for c in columns: \n",
    "        Q1 = np.percentile(data[c], 25)\n",
    "        Q3 = np.percentile(data[c], 75)\n",
    "        IQR = Q3 - Q1\n",
    "        outlier_step = 1.5 * IQR \n",
    "        outlier_list_col = data[(data[c] < Q1 - outlier_step) | (data[c] > Q3 + outlier_step)].index\n",
    "        outlier_indices.extend(outlier_list_col) \n",
    "    outlier_indices = Counter(outlier_indices)\n",
    "    multiple_outliers = list(key for key, value in outlier_indices.items() if value > n) \n",
    "    return multiple_outliers\n",
    "\n",
    "train_outliers_to_drop = detect_outliers(train, 2, ['Age', 'SibSp', 'Parch', 'Fare'])\n",
    "test_outliers_to_drop = detect_outliers(test, 2, ['Age', 'SibSp', 'Parch', 'Fare'])\n",
    "train = train.drop(train_outliers_to_drop, axis = 0).reset_index(drop = True)\n",
    "test = test.drop(test_outliers_to_drop, axis = 0).reset_index(drop = True)"
   ]
  },
  {
   "cell_type": "markdown",
   "id": "following-membership",
   "metadata": {
    "papermill": {
     "duration": 0.060377,
     "end_time": "2021-06-12T18:54:27.744040",
     "exception": false,
     "start_time": "2021-06-12T18:54:27.683663",
     "status": "completed"
    },
    "tags": []
   },
   "source": [
    "check how many rows were dropped from the date (10 rows)"
   ]
  },
  {
   "cell_type": "code",
   "execution_count": 23,
   "id": "instant-portsmouth",
   "metadata": {
    "execution": {
     "iopub.execute_input": "2021-06-12T18:54:27.868209Z",
     "iopub.status.busy": "2021-06-12T18:54:27.867340Z",
     "iopub.status.idle": "2021-06-12T18:54:27.871469Z",
     "shell.execute_reply": "2021-06-12T18:54:27.870993Z",
     "shell.execute_reply.started": "2021-06-12T18:44:46.68564Z"
    },
    "papermill": {
     "duration": 0.068045,
     "end_time": "2021-06-12T18:54:27.871599",
     "exception": false,
     "start_time": "2021-06-12T18:54:27.803554",
     "status": "completed"
    },
    "tags": []
   },
   "outputs": [
    {
     "data": {
      "text/plain": [
       "((881, 13), (418, 11))"
      ]
     },
     "execution_count": 23,
     "metadata": {},
     "output_type": "execute_result"
    }
   ],
   "source": [
    "train.shape , test.shape"
   ]
  },
  {
   "cell_type": "markdown",
   "id": "changing-amateur",
   "metadata": {
    "papermill": {
     "duration": 0.059393,
     "end_time": "2021-06-12T18:54:27.990558",
     "exception": false,
     "start_time": "2021-06-12T18:54:27.931165",
     "status": "completed"
    },
    "tags": []
   },
   "source": [
    "converting the content of train[Embarek] column into numbers, for easy processing and visualisation\n",
    "\n",
    "S -> 0\n",
    "C -> 1\n",
    "Q -> 2"
   ]
  },
  {
   "cell_type": "code",
   "execution_count": 24,
   "id": "brutal-nicaragua",
   "metadata": {
    "execution": {
     "iopub.execute_input": "2021-06-12T18:54:28.120945Z",
     "iopub.status.busy": "2021-06-12T18:54:28.120028Z",
     "iopub.status.idle": "2021-06-12T18:54:28.123115Z",
     "shell.execute_reply": "2021-06-12T18:54:28.122546Z",
     "shell.execute_reply.started": "2021-06-12T18:44:46.694368Z"
    },
    "papermill": {
     "duration": 0.072595,
     "end_time": "2021-06-12T18:54:28.123246",
     "exception": false,
     "start_time": "2021-06-12T18:54:28.050651",
     "status": "completed"
    },
    "tags": []
   },
   "outputs": [],
   "source": [
    "train['Embarked'] = np.where(train['Embarked'] == 'S', 0,train['Embarked'] )\n",
    "train['Embarked'] = np.where(train['Embarked'] == 'C', 1,train['Embarked'] )\n",
    "train['Embarked'] = np.where(train['Embarked'] == 'Q', 2,train['Embarked'] )\n",
    "\n",
    "test['Embarked'] = np.where(test['Embarked'] == 'S', 0,test['Embarked'] )\n",
    "test['Embarked'] = np.where(test['Embarked'] == 'C', 1,test['Embarked'] )\n",
    "test['Embarked'] = np.where(test['Embarked'] == 'Q', 2,test['Embarked'] )\n",
    "\n"
   ]
  },
  {
   "cell_type": "code",
   "execution_count": 25,
   "id": "endless-grammar",
   "metadata": {
    "execution": {
     "iopub.execute_input": "2021-06-12T18:54:28.248086Z",
     "iopub.status.busy": "2021-06-12T18:54:28.247248Z",
     "iopub.status.idle": "2021-06-12T18:54:28.251546Z",
     "shell.execute_reply": "2021-06-12T18:54:28.251107Z",
     "shell.execute_reply.started": "2021-06-12T18:44:46.713617Z"
    },
    "papermill": {
     "duration": 0.068984,
     "end_time": "2021-06-12T18:54:28.251678",
     "exception": false,
     "start_time": "2021-06-12T18:54:28.182694",
     "status": "completed"
    },
    "tags": []
   },
   "outputs": [
    {
     "data": {
      "text/plain": [
       "(2, 0)"
      ]
     },
     "execution_count": 25,
     "metadata": {},
     "output_type": "execute_result"
    }
   ],
   "source": [
    "sum(train['Embarked'].isnull()), sum(test['Embarked'].isnull()) "
   ]
  },
  {
   "cell_type": "markdown",
   "id": "hearing-faculty",
   "metadata": {
    "papermill": {
     "duration": 0.059309,
     "end_time": "2021-06-12T18:54:28.370922",
     "exception": false,
     "start_time": "2021-06-12T18:54:28.311613",
     "status": "completed"
    },
    "tags": []
   },
   "source": [
    "check for gaps in th Cabin column"
   ]
  },
  {
   "cell_type": "code",
   "execution_count": 26,
   "id": "adult-bronze",
   "metadata": {
    "execution": {
     "iopub.execute_input": "2021-06-12T18:54:28.496281Z",
     "iopub.status.busy": "2021-06-12T18:54:28.495416Z",
     "iopub.status.idle": "2021-06-12T18:54:28.499542Z",
     "shell.execute_reply": "2021-06-12T18:54:28.499077Z",
     "shell.execute_reply.started": "2021-06-12T18:44:46.728441Z"
    },
    "papermill": {
     "duration": 0.069213,
     "end_time": "2021-06-12T18:54:28.499672",
     "exception": false,
     "start_time": "2021-06-12T18:54:28.430459",
     "status": "completed"
    },
    "tags": []
   },
   "outputs": [
    {
     "data": {
      "text/plain": [
       "(680, 327)"
      ]
     },
     "execution_count": 26,
     "metadata": {},
     "output_type": "execute_result"
    }
   ],
   "source": [
    "sum(train['Cabin'].isnull()), sum(test['Cabin'].isnull())"
   ]
  },
  {
   "cell_type": "markdown",
   "id": "abstract-typing",
   "metadata": {
    "papermill": {
     "duration": 0.059359,
     "end_time": "2021-06-12T18:54:28.618665",
     "exception": false,
     "start_time": "2021-06-12T18:54:28.559306",
     "status": "completed"
    },
    "tags": []
   },
   "source": [
    "searching for gaps in th Age column (**127 gap**)"
   ]
  },
  {
   "cell_type": "code",
   "execution_count": 27,
   "id": "sought-report",
   "metadata": {
    "execution": {
     "iopub.execute_input": "2021-06-12T18:54:28.744339Z",
     "iopub.status.busy": "2021-06-12T18:54:28.743669Z",
     "iopub.status.idle": "2021-06-12T18:54:28.747450Z",
     "shell.execute_reply": "2021-06-12T18:54:28.746977Z",
     "shell.execute_reply.started": "2021-06-12T18:44:46.747363Z"
    },
    "papermill": {
     "duration": 0.069261,
     "end_time": "2021-06-12T18:54:28.747579",
     "exception": false,
     "start_time": "2021-06-12T18:54:28.678318",
     "status": "completed"
    },
    "tags": []
   },
   "outputs": [
    {
     "data": {
      "text/plain": [
       "(170, 86)"
      ]
     },
     "execution_count": 27,
     "metadata": {},
     "output_type": "execute_result"
    }
   ],
   "source": [
    "sum(train['Age'].isnull()), sum(test['Age'].isnull())"
   ]
  },
  {
   "cell_type": "markdown",
   "id": "later-adolescent",
   "metadata": {
    "papermill": {
     "duration": 0.059738,
     "end_time": "2021-06-12T18:54:28.867646",
     "exception": false,
     "start_time": "2021-06-12T18:54:28.807908",
     "status": "completed"
    },
    "tags": []
   },
   "source": [
    "# Data preprocessing "
   ]
  },
  {
   "cell_type": "markdown",
   "id": "corresponding-april",
   "metadata": {
    "papermill": {
     "duration": 0.060782,
     "end_time": "2021-06-12T18:54:28.990902",
     "exception": false,
     "start_time": "2021-06-12T18:54:28.930120",
     "status": "completed"
    },
    "tags": []
   },
   "source": [
    "check for the gaps in the code"
   ]
  },
  {
   "cell_type": "code",
   "execution_count": 28,
   "id": "measured-staff",
   "metadata": {
    "execution": {
     "iopub.execute_input": "2021-06-12T18:54:29.125932Z",
     "iopub.status.busy": "2021-06-12T18:54:29.125195Z",
     "iopub.status.idle": "2021-06-12T18:54:29.128403Z",
     "shell.execute_reply": "2021-06-12T18:54:29.127852Z",
     "shell.execute_reply.started": "2021-06-12T18:44:46.766266Z"
    },
    "papermill": {
     "duration": 0.074979,
     "end_time": "2021-06-12T18:54:29.128547",
     "exception": false,
     "start_time": "2021-06-12T18:54:29.053568",
     "status": "completed"
    },
    "tags": []
   },
   "outputs": [
    {
     "data": {
      "text/plain": [
       "(PassengerId      0\n",
       " Survived         0\n",
       " Pclass           0\n",
       " Name             0\n",
       " Sex              0\n",
       " Age            170\n",
       " SibSp            0\n",
       " Parch            0\n",
       " Ticket           0\n",
       " Fare             0\n",
       " Cabin          680\n",
       " Embarked         2\n",
       " title            0\n",
       " dtype: int64,\n",
       " PassengerId      0\n",
       " Pclass           0\n",
       " Name             0\n",
       " Sex              0\n",
       " Age             86\n",
       " SibSp            0\n",
       " Parch            0\n",
       " Ticket           0\n",
       " Fare             1\n",
       " Cabin          327\n",
       " Embarked         0\n",
       " dtype: int64)"
      ]
     },
     "execution_count": 28,
     "metadata": {},
     "output_type": "execute_result"
    }
   ],
   "source": [
    "train.isnull().sum() , test.isnull().sum()"
   ]
  },
  {
   "cell_type": "markdown",
   "id": "outer-purpose",
   "metadata": {
    "papermill": {
     "duration": 0.060657,
     "end_time": "2021-06-12T18:54:29.251233",
     "exception": false,
     "start_time": "2021-06-12T18:54:29.190576",
     "status": "completed"
    },
    "tags": []
   },
   "source": [
    "drop the cabin column from the data because the gap percentage is too high"
   ]
  },
  {
   "cell_type": "code",
   "execution_count": 29,
   "id": "liable-indicator",
   "metadata": {
    "execution": {
     "iopub.execute_input": "2021-06-12T18:54:29.380531Z",
     "iopub.status.busy": "2021-06-12T18:54:29.379888Z",
     "iopub.status.idle": "2021-06-12T18:54:29.381862Z",
     "shell.execute_reply": "2021-06-12T18:54:29.382282Z",
     "shell.execute_reply.started": "2021-06-12T18:44:46.784766Z"
    },
    "papermill": {
     "duration": 0.070144,
     "end_time": "2021-06-12T18:54:29.382479",
     "exception": false,
     "start_time": "2021-06-12T18:54:29.312335",
     "status": "completed"
    },
    "tags": []
   },
   "outputs": [],
   "source": [
    "train = train.drop(['Cabin'], axis = 1)\n",
    "test = test.drop(['Cabin'], axis = 1)"
   ]
  },
  {
   "cell_type": "raw",
   "id": "hydraulic-employee",
   "metadata": {
    "papermill": {
     "duration": 0.060258,
     "end_time": "2021-06-12T18:54:29.503616",
     "exception": false,
     "start_time": "2021-06-12T18:54:29.443358",
     "status": "completed"
    },
    "tags": []
   },
   "source": [
    "drop the Ticket column"
   ]
  },
  {
   "cell_type": "code",
   "execution_count": 30,
   "id": "killing-locator",
   "metadata": {
    "execution": {
     "iopub.execute_input": "2021-06-12T18:54:29.627587Z",
     "iopub.status.busy": "2021-06-12T18:54:29.626995Z",
     "iopub.status.idle": "2021-06-12T18:54:29.633192Z",
     "shell.execute_reply": "2021-06-12T18:54:29.633644Z",
     "shell.execute_reply.started": "2021-06-12T18:44:46.799296Z"
    },
    "papermill": {
     "duration": 0.069552,
     "end_time": "2021-06-12T18:54:29.633806",
     "exception": false,
     "start_time": "2021-06-12T18:54:29.564254",
     "status": "completed"
    },
    "tags": []
   },
   "outputs": [],
   "source": [
    "train = train.drop(['Ticket'], axis = 1)\n",
    "test = test.drop(['Ticket'], axis = 1)"
   ]
  },
  {
   "cell_type": "markdown",
   "id": "manual-input",
   "metadata": {
    "papermill": {
     "duration": 0.062564,
     "end_time": "2021-06-12T18:54:29.757024",
     "exception": false,
     "start_time": "2021-06-12T18:54:29.694460",
     "status": "completed"
    },
    "tags": []
   },
   "source": [
    "drop the name column"
   ]
  },
  {
   "cell_type": "code",
   "execution_count": 31,
   "id": "guided-synthetic",
   "metadata": {
    "execution": {
     "iopub.execute_input": "2021-06-12T18:54:29.883494Z",
     "iopub.status.busy": "2021-06-12T18:54:29.882885Z",
     "iopub.status.idle": "2021-06-12T18:54:29.889370Z",
     "shell.execute_reply": "2021-06-12T18:54:29.889843Z",
     "shell.execute_reply.started": "2021-06-12T18:44:46.812982Z"
    },
    "papermill": {
     "duration": 0.071518,
     "end_time": "2021-06-12T18:54:29.890018",
     "exception": false,
     "start_time": "2021-06-12T18:54:29.818500",
     "status": "completed"
    },
    "tags": []
   },
   "outputs": [],
   "source": [
    "train = train.drop(['Name'], axis = 1)\n",
    "test = test.drop(['Name'], axis = 1)"
   ]
  },
  {
   "cell_type": "markdown",
   "id": "direct-kuwait",
   "metadata": {
    "papermill": {
     "duration": 0.060369,
     "end_time": "2021-06-12T18:54:30.010943",
     "exception": false,
     "start_time": "2021-06-12T18:54:29.950574",
     "status": "completed"
    },
    "tags": []
   },
   "source": [
    "fill the Embarked column gaps with the mode of the column data"
   ]
  },
  {
   "cell_type": "code",
   "execution_count": 32,
   "id": "applied-lighting",
   "metadata": {
    "execution": {
     "iopub.execute_input": "2021-06-12T18:54:30.141189Z",
     "iopub.status.busy": "2021-06-12T18:54:30.140546Z",
     "iopub.status.idle": "2021-06-12T18:54:30.145228Z",
     "shell.execute_reply": "2021-06-12T18:54:30.145728Z",
     "shell.execute_reply.started": "2021-06-12T18:44:46.826979Z"
    },
    "papermill": {
     "duration": 0.073994,
     "end_time": "2021-06-12T18:54:30.145911",
     "exception": false,
     "start_time": "2021-06-12T18:54:30.071917",
     "status": "completed"
    },
    "tags": []
   },
   "outputs": [],
   "source": [
    "train_embarked_mode_of_nonSurvivor = train['Embarked'].where(train[\"Survived\"] == 0).dropna().mode()[0]\n",
    "train_embarked_mode_of_Survivor = train['Embarked'].where(train[\"Survived\"] == 1).dropna().mode()[0]\n",
    "train['Embarked'].fillna(train_embarked_mode_of_nonSurvivor, inplace = True)\n",
    "\n",
    "test_embarked_mode = test['Embarked'].dropna().mode()[0]\n",
    "test['Embarked'].fillna(test_embarked_mode, inplace = True)\n",
    "\n"
   ]
  },
  {
   "cell_type": "markdown",
   "id": "conscious-twins",
   "metadata": {
    "papermill": {
     "duration": 0.061478,
     "end_time": "2021-06-12T18:54:30.268750",
     "exception": false,
     "start_time": "2021-06-12T18:54:30.207272",
     "status": "completed"
    },
    "tags": []
   },
   "source": [
    "check if the Embarked column gaps were filled & the cabin column was dropped"
   ]
  },
  {
   "cell_type": "code",
   "execution_count": 33,
   "id": "experienced-basement",
   "metadata": {
    "execution": {
     "iopub.execute_input": "2021-06-12T18:54:30.442985Z",
     "iopub.status.busy": "2021-06-12T18:54:30.442374Z",
     "iopub.status.idle": "2021-06-12T18:54:30.450511Z",
     "shell.execute_reply": "2021-06-12T18:54:30.451059Z",
     "shell.execute_reply.started": "2021-06-12T18:44:46.84323Z"
    },
    "papermill": {
     "duration": 0.121059,
     "end_time": "2021-06-12T18:54:30.451225",
     "exception": false,
     "start_time": "2021-06-12T18:54:30.330166",
     "status": "completed"
    },
    "tags": []
   },
   "outputs": [
    {
     "data": {
      "text/plain": [
       "(PassengerId      0\n",
       " Survived         0\n",
       " Pclass           0\n",
       " Sex              0\n",
       " Age            170\n",
       " SibSp            0\n",
       " Parch            0\n",
       " Fare             0\n",
       " Embarked         0\n",
       " title            0\n",
       " dtype: int64,\n",
       " PassengerId     0\n",
       " Pclass          0\n",
       " Sex             0\n",
       " Age            86\n",
       " SibSp           0\n",
       " Parch           0\n",
       " Fare            1\n",
       " Embarked        0\n",
       " dtype: int64)"
      ]
     },
     "execution_count": 33,
     "metadata": {},
     "output_type": "execute_result"
    }
   ],
   "source": [
    "train.isnull().sum() , test.isnull().sum()"
   ]
  },
  {
   "cell_type": "markdown",
   "id": "tropical-titanium",
   "metadata": {
    "papermill": {
     "duration": 0.060445,
     "end_time": "2021-06-12T18:54:30.572718",
     "exception": false,
     "start_time": "2021-06-12T18:54:30.512273",
     "status": "completed"
    },
    "tags": []
   },
   "source": [
    "drop the title column I added before, the source of the Error |("
   ]
  },
  {
   "cell_type": "code",
   "execution_count": 34,
   "id": "premier-pound",
   "metadata": {
    "execution": {
     "iopub.execute_input": "2021-06-12T18:54:30.700368Z",
     "iopub.status.busy": "2021-06-12T18:54:30.699796Z",
     "iopub.status.idle": "2021-06-12T18:54:30.705124Z",
     "shell.execute_reply": "2021-06-12T18:54:30.705511Z",
     "shell.execute_reply.started": "2021-06-12T18:44:46.858413Z"
    },
    "papermill": {
     "duration": 0.069107,
     "end_time": "2021-06-12T18:54:30.705694",
     "exception": false,
     "start_time": "2021-06-12T18:54:30.636587",
     "status": "completed"
    },
    "tags": []
   },
   "outputs": [],
   "source": [
    "train = train.drop(['title'], axis = 1)"
   ]
  },
  {
   "cell_type": "markdown",
   "id": "quiet-brand",
   "metadata": {
    "papermill": {
     "duration": 0.060962,
     "end_time": "2021-06-12T18:54:30.831260",
     "exception": false,
     "start_time": "2021-06-12T18:54:30.770298",
     "status": "completed"
    },
    "tags": []
   },
   "source": [
    "fill the Age column with the median of the column"
   ]
  },
  {
   "cell_type": "code",
   "execution_count": 35,
   "id": "simple-scoop",
   "metadata": {
    "execution": {
     "iopub.execute_input": "2021-06-12T18:54:30.966125Z",
     "iopub.status.busy": "2021-06-12T18:54:30.963594Z",
     "iopub.status.idle": "2021-06-12T18:54:30.969185Z",
     "shell.execute_reply": "2021-06-12T18:54:30.968715Z",
     "shell.execute_reply.started": "2021-06-12T18:44:46.872115Z"
    },
    "papermill": {
     "duration": 0.07577,
     "end_time": "2021-06-12T18:54:30.969324",
     "exception": false,
     "start_time": "2021-06-12T18:54:30.893554",
     "status": "completed"
    },
    "tags": []
   },
   "outputs": [],
   "source": [
    "age_median_of_nonSurvivor = train['Age'].where(train[\"Survived\"] == 0).dropna().median()\n",
    "age_median_of_Survivor = train['Age'].where(train[\"Survived\"] == 1).dropna().median()\n",
    "train['Age'].fillna(age_median_of_nonSurvivor, inplace = True)\n",
    "\n",
    "test_age_median = test['Age'].dropna().median()\n",
    "test['Age'].fillna(test_age_median, inplace = True)"
   ]
  },
  {
   "cell_type": "markdown",
   "id": "increased-wales",
   "metadata": {
    "papermill": {
     "duration": 0.061108,
     "end_time": "2021-06-12T18:54:31.092492",
     "exception": false,
     "start_time": "2021-06-12T18:54:31.031384",
     "status": "completed"
    },
    "tags": []
   },
   "source": [
    "fill the Fare column with the median of the column"
   ]
  },
  {
   "cell_type": "code",
   "execution_count": 36,
   "id": "alive-antique",
   "metadata": {
    "execution": {
     "iopub.execute_input": "2021-06-12T18:54:31.219931Z",
     "iopub.status.busy": "2021-06-12T18:54:31.219323Z",
     "iopub.status.idle": "2021-06-12T18:54:31.222430Z",
     "shell.execute_reply": "2021-06-12T18:54:31.222933Z",
     "shell.execute_reply.started": "2021-06-12T18:44:46.886837Z"
    },
    "papermill": {
     "duration": 0.069474,
     "end_time": "2021-06-12T18:54:31.223117",
     "exception": false,
     "start_time": "2021-06-12T18:54:31.153643",
     "status": "completed"
    },
    "tags": []
   },
   "outputs": [],
   "source": [
    "test_fair_median = test['Fare'].dropna().median()\n",
    "test['Fare'].fillna(test_fair_median, inplace = True)"
   ]
  },
  {
   "cell_type": "code",
   "execution_count": 37,
   "id": "ultimate-counter",
   "metadata": {
    "execution": {
     "iopub.execute_input": "2021-06-12T18:54:31.348985Z",
     "iopub.status.busy": "2021-06-12T18:54:31.348386Z",
     "iopub.status.idle": "2021-06-12T18:54:31.356525Z",
     "shell.execute_reply": "2021-06-12T18:54:31.357072Z",
     "shell.execute_reply.started": "2021-06-12T18:44:46.894541Z"
    },
    "papermill": {
     "duration": 0.072747,
     "end_time": "2021-06-12T18:54:31.357247",
     "exception": false,
     "start_time": "2021-06-12T18:54:31.284500",
     "status": "completed"
    },
    "tags": []
   },
   "outputs": [
    {
     "data": {
      "text/plain": [
       "(PassengerId    0\n",
       " Survived       0\n",
       " Pclass         0\n",
       " Sex            0\n",
       " Age            0\n",
       " SibSp          0\n",
       " Parch          0\n",
       " Fare           0\n",
       " Embarked       0\n",
       " dtype: int64,\n",
       " PassengerId    0\n",
       " Pclass         0\n",
       " Sex            0\n",
       " Age            0\n",
       " SibSp          0\n",
       " Parch          0\n",
       " Fare           0\n",
       " Embarked       0\n",
       " dtype: int64)"
      ]
     },
     "execution_count": 37,
     "metadata": {},
     "output_type": "execute_result"
    }
   ],
   "source": [
    "train.isnull().sum(), test.isnull().sum()"
   ]
  },
  {
   "cell_type": "code",
   "execution_count": 38,
   "id": "amino-papua",
   "metadata": {
    "execution": {
     "iopub.execute_input": "2021-06-12T18:54:31.482471Z",
     "iopub.status.busy": "2021-06-12T18:54:31.481909Z",
     "iopub.status.idle": "2021-06-12T18:54:31.486165Z",
     "shell.execute_reply": "2021-06-12T18:54:31.486669Z",
     "shell.execute_reply.started": "2021-06-12T18:44:46.91742Z"
    },
    "papermill": {
     "duration": 0.068444,
     "end_time": "2021-06-12T18:54:31.486851",
     "exception": false,
     "start_time": "2021-06-12T18:54:31.418407",
     "status": "completed"
    },
    "tags": []
   },
   "outputs": [
    {
     "data": {
      "text/plain": [
       "((881, 9), (418, 8))"
      ]
     },
     "execution_count": 38,
     "metadata": {},
     "output_type": "execute_result"
    }
   ],
   "source": [
    "train.shape, test.shape"
   ]
  },
  {
   "cell_type": "markdown",
   "id": "whole-texas",
   "metadata": {
    "papermill": {
     "duration": 0.061096,
     "end_time": "2021-06-12T18:54:31.609443",
     "exception": false,
     "start_time": "2021-06-12T18:54:31.548347",
     "status": "completed"
    },
    "tags": []
   },
   "source": [
    "dropthe passengerid column, will not be used in th processs"
   ]
  },
  {
   "cell_type": "code",
   "execution_count": 39,
   "id": "ready-warrior",
   "metadata": {
    "execution": {
     "iopub.execute_input": "2021-06-12T18:54:31.735276Z",
     "iopub.status.busy": "2021-06-12T18:54:31.734677Z",
     "iopub.status.idle": "2021-06-12T18:54:31.739132Z",
     "shell.execute_reply": "2021-06-12T18:54:31.739649Z",
     "shell.execute_reply.started": "2021-06-12T18:44:46.924437Z"
    },
    "papermill": {
     "duration": 0.068824,
     "end_time": "2021-06-12T18:54:31.739840",
     "exception": false,
     "start_time": "2021-06-12T18:54:31.671016",
     "status": "completed"
    },
    "tags": []
   },
   "outputs": [],
   "source": [
    "train = train.drop('PassengerId', axis = 1)"
   ]
  },
  {
   "cell_type": "markdown",
   "id": "classified-bookmark",
   "metadata": {
    "papermill": {
     "duration": 0.061589,
     "end_time": "2021-06-12T18:54:31.864010",
     "exception": false,
     "start_time": "2021-06-12T18:54:31.802421",
     "status": "completed"
    },
    "tags": []
   },
   "source": [
    "drop the survived column from both the train data and test data"
   ]
  },
  {
   "cell_type": "code",
   "execution_count": 40,
   "id": "intensive-digit",
   "metadata": {
    "execution": {
     "iopub.execute_input": "2021-06-12T18:54:31.991197Z",
     "iopub.status.busy": "2021-06-12T18:54:31.990590Z",
     "iopub.status.idle": "2021-06-12T18:54:31.996646Z",
     "shell.execute_reply": "2021-06-12T18:54:31.997178Z",
     "shell.execute_reply.started": "2021-06-12T18:44:46.936976Z"
    },
    "papermill": {
     "duration": 0.071928,
     "end_time": "2021-06-12T18:54:31.997348",
     "exception": false,
     "start_time": "2021-06-12T18:54:31.925420",
     "status": "completed"
    },
    "tags": []
   },
   "outputs": [],
   "source": [
    "x_train = train.drop('Survived', axis = 1)\n",
    "y_train = train['Survived']\n",
    "x_test = test.drop('PassengerId', axis = 1).copy()"
   ]
  },
  {
   "cell_type": "markdown",
   "id": "significant-pipeline",
   "metadata": {
    "papermill": {
     "duration": 0.061563,
     "end_time": "2021-06-12T18:54:32.120440",
     "exception": false,
     "start_time": "2021-06-12T18:54:32.058877",
     "status": "completed"
    },
    "tags": []
   },
   "source": [
    "# Modeling"
   ]
  },
  {
   "cell_type": "code",
   "execution_count": 41,
   "id": "toxic-compensation",
   "metadata": {
    "execution": {
     "iopub.execute_input": "2021-06-12T18:54:32.248417Z",
     "iopub.status.busy": "2021-06-12T18:54:32.247842Z",
     "iopub.status.idle": "2021-06-12T18:54:32.276033Z",
     "shell.execute_reply": "2021-06-12T18:54:32.276574Z",
     "shell.execute_reply.started": "2021-06-12T18:44:46.952707Z"
    },
    "papermill": {
     "duration": 0.093501,
     "end_time": "2021-06-12T18:54:32.276737",
     "exception": false,
     "start_time": "2021-06-12T18:54:32.183236",
     "status": "completed"
    },
    "tags": []
   },
   "outputs": [
    {
     "data": {
      "text/html": [
       "<div>\n",
       "<style scoped>\n",
       "    .dataframe tbody tr th:only-of-type {\n",
       "        vertical-align: middle;\n",
       "    }\n",
       "\n",
       "    .dataframe tbody tr th {\n",
       "        vertical-align: top;\n",
       "    }\n",
       "\n",
       "    .dataframe thead th {\n",
       "        text-align: right;\n",
       "    }\n",
       "</style>\n",
       "<table border=\"1\" class=\"dataframe\">\n",
       "  <thead>\n",
       "    <tr style=\"text-align: right;\">\n",
       "      <th></th>\n",
       "      <th>Pclass</th>\n",
       "      <th>Sex</th>\n",
       "      <th>Age</th>\n",
       "      <th>SibSp</th>\n",
       "      <th>Parch</th>\n",
       "      <th>Fare</th>\n",
       "      <th>Embarked</th>\n",
       "    </tr>\n",
       "  </thead>\n",
       "  <tbody>\n",
       "    <tr>\n",
       "      <th>count</th>\n",
       "      <td>881.000000</td>\n",
       "      <td>881.000000</td>\n",
       "      <td>881.000000</td>\n",
       "      <td>881.000000</td>\n",
       "      <td>881.000000</td>\n",
       "      <td>881.000000</td>\n",
       "      <td>881.000000</td>\n",
       "    </tr>\n",
       "    <tr>\n",
       "      <th>mean</th>\n",
       "      <td>2.307605</td>\n",
       "      <td>0.350738</td>\n",
       "      <td>29.397469</td>\n",
       "      <td>0.455165</td>\n",
       "      <td>0.363224</td>\n",
       "      <td>31.121566</td>\n",
       "      <td>0.365494</td>\n",
       "    </tr>\n",
       "    <tr>\n",
       "      <th>std</th>\n",
       "      <td>0.835055</td>\n",
       "      <td>0.477472</td>\n",
       "      <td>13.085186</td>\n",
       "      <td>0.871571</td>\n",
       "      <td>0.791839</td>\n",
       "      <td>47.996249</td>\n",
       "      <td>0.638100</td>\n",
       "    </tr>\n",
       "    <tr>\n",
       "      <th>min</th>\n",
       "      <td>1.000000</td>\n",
       "      <td>0.000000</td>\n",
       "      <td>0.420000</td>\n",
       "      <td>0.000000</td>\n",
       "      <td>0.000000</td>\n",
       "      <td>0.000000</td>\n",
       "      <td>0.000000</td>\n",
       "    </tr>\n",
       "    <tr>\n",
       "      <th>25%</th>\n",
       "      <td>2.000000</td>\n",
       "      <td>0.000000</td>\n",
       "      <td>22.000000</td>\n",
       "      <td>0.000000</td>\n",
       "      <td>0.000000</td>\n",
       "      <td>7.895800</td>\n",
       "      <td>0.000000</td>\n",
       "    </tr>\n",
       "    <tr>\n",
       "      <th>50%</th>\n",
       "      <td>3.000000</td>\n",
       "      <td>0.000000</td>\n",
       "      <td>28.000000</td>\n",
       "      <td>0.000000</td>\n",
       "      <td>0.000000</td>\n",
       "      <td>14.454200</td>\n",
       "      <td>0.000000</td>\n",
       "    </tr>\n",
       "    <tr>\n",
       "      <th>75%</th>\n",
       "      <td>3.000000</td>\n",
       "      <td>1.000000</td>\n",
       "      <td>35.000000</td>\n",
       "      <td>1.000000</td>\n",
       "      <td>0.000000</td>\n",
       "      <td>30.500000</td>\n",
       "      <td>1.000000</td>\n",
       "    </tr>\n",
       "    <tr>\n",
       "      <th>max</th>\n",
       "      <td>3.000000</td>\n",
       "      <td>1.000000</td>\n",
       "      <td>80.000000</td>\n",
       "      <td>5.000000</td>\n",
       "      <td>6.000000</td>\n",
       "      <td>512.329200</td>\n",
       "      <td>2.000000</td>\n",
       "    </tr>\n",
       "  </tbody>\n",
       "</table>\n",
       "</div>"
      ],
      "text/plain": [
       "           Pclass         Sex         Age       SibSp       Parch        Fare  \\\n",
       "count  881.000000  881.000000  881.000000  881.000000  881.000000  881.000000   \n",
       "mean     2.307605    0.350738   29.397469    0.455165    0.363224   31.121566   \n",
       "std      0.835055    0.477472   13.085186    0.871571    0.791839   47.996249   \n",
       "min      1.000000    0.000000    0.420000    0.000000    0.000000    0.000000   \n",
       "25%      2.000000    0.000000   22.000000    0.000000    0.000000    7.895800   \n",
       "50%      3.000000    0.000000   28.000000    0.000000    0.000000   14.454200   \n",
       "75%      3.000000    1.000000   35.000000    1.000000    0.000000   30.500000   \n",
       "max      3.000000    1.000000   80.000000    5.000000    6.000000  512.329200   \n",
       "\n",
       "         Embarked  \n",
       "count  881.000000  \n",
       "mean     0.365494  \n",
       "std      0.638100  \n",
       "min      0.000000  \n",
       "25%      0.000000  \n",
       "50%      0.000000  \n",
       "75%      1.000000  \n",
       "max      2.000000  "
      ]
     },
     "execution_count": 41,
     "metadata": {},
     "output_type": "execute_result"
    }
   ],
   "source": [
    "x_train.describe()"
   ]
  },
  {
   "cell_type": "code",
   "execution_count": 42,
   "id": "leading-company",
   "metadata": {
    "execution": {
     "iopub.execute_input": "2021-06-12T18:54:32.403690Z",
     "iopub.status.busy": "2021-06-12T18:54:32.403141Z",
     "iopub.status.idle": "2021-06-12T18:54:32.407533Z",
     "shell.execute_reply": "2021-06-12T18:54:32.408057Z",
     "shell.execute_reply.started": "2021-06-12T18:44:46.989723Z"
    },
    "papermill": {
     "duration": 0.069498,
     "end_time": "2021-06-12T18:54:32.408229",
     "exception": false,
     "start_time": "2021-06-12T18:54:32.338731",
     "status": "completed"
    },
    "tags": []
   },
   "outputs": [
    {
     "data": {
      "text/plain": [
       "((881, 7), (881,), (418, 7))"
      ]
     },
     "execution_count": 42,
     "metadata": {},
     "output_type": "execute_result"
    }
   ],
   "source": [
    "x_train.shape, y_train.shape, x_test.shape"
   ]
  },
  {
   "cell_type": "code",
   "execution_count": 43,
   "id": "communist-nicholas",
   "metadata": {
    "execution": {
     "iopub.execute_input": "2021-06-12T18:54:32.535958Z",
     "iopub.status.busy": "2021-06-12T18:54:32.535333Z",
     "iopub.status.idle": "2021-06-12T18:54:32.564497Z",
     "shell.execute_reply": "2021-06-12T18:54:32.563842Z",
     "shell.execute_reply.started": "2021-06-12T18:44:46.996504Z"
    },
    "papermill": {
     "duration": 0.094152,
     "end_time": "2021-06-12T18:54:32.564639",
     "exception": false,
     "start_time": "2021-06-12T18:54:32.470487",
     "status": "completed"
    },
    "tags": []
   },
   "outputs": [
    {
     "data": {
      "text/html": [
       "<div>\n",
       "<style scoped>\n",
       "    .dataframe tbody tr th:only-of-type {\n",
       "        vertical-align: middle;\n",
       "    }\n",
       "\n",
       "    .dataframe tbody tr th {\n",
       "        vertical-align: top;\n",
       "    }\n",
       "\n",
       "    .dataframe thead th {\n",
       "        text-align: right;\n",
       "    }\n",
       "</style>\n",
       "<table border=\"1\" class=\"dataframe\">\n",
       "  <thead>\n",
       "    <tr style=\"text-align: right;\">\n",
       "      <th></th>\n",
       "      <th>Pclass</th>\n",
       "      <th>Sex</th>\n",
       "      <th>Age</th>\n",
       "      <th>SibSp</th>\n",
       "      <th>Parch</th>\n",
       "      <th>Fare</th>\n",
       "      <th>Embarked</th>\n",
       "    </tr>\n",
       "  </thead>\n",
       "  <tbody>\n",
       "    <tr>\n",
       "      <th>count</th>\n",
       "      <td>881.000000</td>\n",
       "      <td>881.000000</td>\n",
       "      <td>881.000000</td>\n",
       "      <td>881.000000</td>\n",
       "      <td>881.000000</td>\n",
       "      <td>881.000000</td>\n",
       "      <td>881.000000</td>\n",
       "    </tr>\n",
       "    <tr>\n",
       "      <th>mean</th>\n",
       "      <td>2.307605</td>\n",
       "      <td>0.350738</td>\n",
       "      <td>29.397469</td>\n",
       "      <td>0.455165</td>\n",
       "      <td>0.363224</td>\n",
       "      <td>31.121566</td>\n",
       "      <td>0.365494</td>\n",
       "    </tr>\n",
       "    <tr>\n",
       "      <th>std</th>\n",
       "      <td>0.835055</td>\n",
       "      <td>0.477472</td>\n",
       "      <td>13.085186</td>\n",
       "      <td>0.871571</td>\n",
       "      <td>0.791839</td>\n",
       "      <td>47.996249</td>\n",
       "      <td>0.638100</td>\n",
       "    </tr>\n",
       "    <tr>\n",
       "      <th>min</th>\n",
       "      <td>1.000000</td>\n",
       "      <td>0.000000</td>\n",
       "      <td>0.420000</td>\n",
       "      <td>0.000000</td>\n",
       "      <td>0.000000</td>\n",
       "      <td>0.000000</td>\n",
       "      <td>0.000000</td>\n",
       "    </tr>\n",
       "    <tr>\n",
       "      <th>25%</th>\n",
       "      <td>2.000000</td>\n",
       "      <td>0.000000</td>\n",
       "      <td>22.000000</td>\n",
       "      <td>0.000000</td>\n",
       "      <td>0.000000</td>\n",
       "      <td>7.895800</td>\n",
       "      <td>0.000000</td>\n",
       "    </tr>\n",
       "    <tr>\n",
       "      <th>50%</th>\n",
       "      <td>3.000000</td>\n",
       "      <td>0.000000</td>\n",
       "      <td>28.000000</td>\n",
       "      <td>0.000000</td>\n",
       "      <td>0.000000</td>\n",
       "      <td>14.454200</td>\n",
       "      <td>0.000000</td>\n",
       "    </tr>\n",
       "    <tr>\n",
       "      <th>75%</th>\n",
       "      <td>3.000000</td>\n",
       "      <td>1.000000</td>\n",
       "      <td>35.000000</td>\n",
       "      <td>1.000000</td>\n",
       "      <td>0.000000</td>\n",
       "      <td>30.500000</td>\n",
       "      <td>1.000000</td>\n",
       "    </tr>\n",
       "    <tr>\n",
       "      <th>max</th>\n",
       "      <td>3.000000</td>\n",
       "      <td>1.000000</td>\n",
       "      <td>80.000000</td>\n",
       "      <td>5.000000</td>\n",
       "      <td>6.000000</td>\n",
       "      <td>512.329200</td>\n",
       "      <td>2.000000</td>\n",
       "    </tr>\n",
       "  </tbody>\n",
       "</table>\n",
       "</div>"
      ],
      "text/plain": [
       "           Pclass         Sex         Age       SibSp       Parch        Fare  \\\n",
       "count  881.000000  881.000000  881.000000  881.000000  881.000000  881.000000   \n",
       "mean     2.307605    0.350738   29.397469    0.455165    0.363224   31.121566   \n",
       "std      0.835055    0.477472   13.085186    0.871571    0.791839   47.996249   \n",
       "min      1.000000    0.000000    0.420000    0.000000    0.000000    0.000000   \n",
       "25%      2.000000    0.000000   22.000000    0.000000    0.000000    7.895800   \n",
       "50%      3.000000    0.000000   28.000000    0.000000    0.000000   14.454200   \n",
       "75%      3.000000    1.000000   35.000000    1.000000    0.000000   30.500000   \n",
       "max      3.000000    1.000000   80.000000    5.000000    6.000000  512.329200   \n",
       "\n",
       "         Embarked  \n",
       "count  881.000000  \n",
       "mean     0.365494  \n",
       "std      0.638100  \n",
       "min      0.000000  \n",
       "25%      0.000000  \n",
       "50%      0.000000  \n",
       "75%      1.000000  \n",
       "max      2.000000  "
      ]
     },
     "execution_count": 43,
     "metadata": {},
     "output_type": "execute_result"
    }
   ],
   "source": [
    "x_train.describe()"
   ]
  },
  {
   "cell_type": "code",
   "execution_count": 44,
   "id": "regulation-durham",
   "metadata": {
    "execution": {
     "iopub.execute_input": "2021-06-12T18:54:32.693538Z",
     "iopub.status.busy": "2021-06-12T18:54:32.692977Z",
     "iopub.status.idle": "2021-06-12T18:54:32.721715Z",
     "shell.execute_reply": "2021-06-12T18:54:32.721148Z",
     "shell.execute_reply.started": "2021-06-12T18:44:47.039319Z"
    },
    "papermill": {
     "duration": 0.093966,
     "end_time": "2021-06-12T18:54:32.721866",
     "exception": false,
     "start_time": "2021-06-12T18:54:32.627900",
     "status": "completed"
    },
    "tags": []
   },
   "outputs": [
    {
     "data": {
      "text/html": [
       "<div>\n",
       "<style scoped>\n",
       "    .dataframe tbody tr th:only-of-type {\n",
       "        vertical-align: middle;\n",
       "    }\n",
       "\n",
       "    .dataframe tbody tr th {\n",
       "        vertical-align: top;\n",
       "    }\n",
       "\n",
       "    .dataframe thead th {\n",
       "        text-align: right;\n",
       "    }\n",
       "</style>\n",
       "<table border=\"1\" class=\"dataframe\">\n",
       "  <thead>\n",
       "    <tr style=\"text-align: right;\">\n",
       "      <th></th>\n",
       "      <th>Pclass</th>\n",
       "      <th>Sex</th>\n",
       "      <th>Age</th>\n",
       "      <th>SibSp</th>\n",
       "      <th>Parch</th>\n",
       "      <th>Fare</th>\n",
       "      <th>Embarked</th>\n",
       "    </tr>\n",
       "  </thead>\n",
       "  <tbody>\n",
       "    <tr>\n",
       "      <th>count</th>\n",
       "      <td>418.000000</td>\n",
       "      <td>418.000000</td>\n",
       "      <td>418.000000</td>\n",
       "      <td>418.000000</td>\n",
       "      <td>418.000000</td>\n",
       "      <td>418.000000</td>\n",
       "      <td>418.000000</td>\n",
       "    </tr>\n",
       "    <tr>\n",
       "      <th>mean</th>\n",
       "      <td>2.265550</td>\n",
       "      <td>0.363636</td>\n",
       "      <td>29.599282</td>\n",
       "      <td>0.447368</td>\n",
       "      <td>0.392344</td>\n",
       "      <td>35.576535</td>\n",
       "      <td>0.464115</td>\n",
       "    </tr>\n",
       "    <tr>\n",
       "      <th>std</th>\n",
       "      <td>0.841838</td>\n",
       "      <td>0.481622</td>\n",
       "      <td>12.703770</td>\n",
       "      <td>0.896760</td>\n",
       "      <td>0.981429</td>\n",
       "      <td>55.850103</td>\n",
       "      <td>0.685516</td>\n",
       "    </tr>\n",
       "    <tr>\n",
       "      <th>min</th>\n",
       "      <td>1.000000</td>\n",
       "      <td>0.000000</td>\n",
       "      <td>0.170000</td>\n",
       "      <td>0.000000</td>\n",
       "      <td>0.000000</td>\n",
       "      <td>0.000000</td>\n",
       "      <td>0.000000</td>\n",
       "    </tr>\n",
       "    <tr>\n",
       "      <th>25%</th>\n",
       "      <td>1.000000</td>\n",
       "      <td>0.000000</td>\n",
       "      <td>23.000000</td>\n",
       "      <td>0.000000</td>\n",
       "      <td>0.000000</td>\n",
       "      <td>7.895800</td>\n",
       "      <td>0.000000</td>\n",
       "    </tr>\n",
       "    <tr>\n",
       "      <th>50%</th>\n",
       "      <td>3.000000</td>\n",
       "      <td>0.000000</td>\n",
       "      <td>27.000000</td>\n",
       "      <td>0.000000</td>\n",
       "      <td>0.000000</td>\n",
       "      <td>14.454200</td>\n",
       "      <td>0.000000</td>\n",
       "    </tr>\n",
       "    <tr>\n",
       "      <th>75%</th>\n",
       "      <td>3.000000</td>\n",
       "      <td>1.000000</td>\n",
       "      <td>35.750000</td>\n",
       "      <td>1.000000</td>\n",
       "      <td>0.000000</td>\n",
       "      <td>31.471875</td>\n",
       "      <td>1.000000</td>\n",
       "    </tr>\n",
       "    <tr>\n",
       "      <th>max</th>\n",
       "      <td>3.000000</td>\n",
       "      <td>1.000000</td>\n",
       "      <td>76.000000</td>\n",
       "      <td>8.000000</td>\n",
       "      <td>9.000000</td>\n",
       "      <td>512.329200</td>\n",
       "      <td>2.000000</td>\n",
       "    </tr>\n",
       "  </tbody>\n",
       "</table>\n",
       "</div>"
      ],
      "text/plain": [
       "           Pclass         Sex         Age       SibSp       Parch        Fare  \\\n",
       "count  418.000000  418.000000  418.000000  418.000000  418.000000  418.000000   \n",
       "mean     2.265550    0.363636   29.599282    0.447368    0.392344   35.576535   \n",
       "std      0.841838    0.481622   12.703770    0.896760    0.981429   55.850103   \n",
       "min      1.000000    0.000000    0.170000    0.000000    0.000000    0.000000   \n",
       "25%      1.000000    0.000000   23.000000    0.000000    0.000000    7.895800   \n",
       "50%      3.000000    0.000000   27.000000    0.000000    0.000000   14.454200   \n",
       "75%      3.000000    1.000000   35.750000    1.000000    0.000000   31.471875   \n",
       "max      3.000000    1.000000   76.000000    8.000000    9.000000  512.329200   \n",
       "\n",
       "         Embarked  \n",
       "count  418.000000  \n",
       "mean     0.464115  \n",
       "std      0.685516  \n",
       "min      0.000000  \n",
       "25%      0.000000  \n",
       "50%      0.000000  \n",
       "75%      1.000000  \n",
       "max      2.000000  "
      ]
     },
     "execution_count": 44,
     "metadata": {},
     "output_type": "execute_result"
    }
   ],
   "source": [
    "x_test.describe()"
   ]
  },
  {
   "cell_type": "code",
   "execution_count": 45,
   "id": "worthy-adelaide",
   "metadata": {
    "execution": {
     "iopub.execute_input": "2021-06-12T18:54:32.853878Z",
     "iopub.status.busy": "2021-06-12T18:54:32.853308Z",
     "iopub.status.idle": "2021-06-12T18:54:32.883424Z",
     "shell.execute_reply": "2021-06-12T18:54:32.883906Z",
     "shell.execute_reply.started": "2021-06-12T18:44:47.074063Z"
    },
    "papermill": {
     "duration": 0.095985,
     "end_time": "2021-06-12T18:54:32.884066",
     "exception": false,
     "start_time": "2021-06-12T18:54:32.788081",
     "status": "completed"
    },
    "tags": []
   },
   "outputs": [
    {
     "data": {
      "text/html": [
       "<div>\n",
       "<style scoped>\n",
       "    .dataframe tbody tr th:only-of-type {\n",
       "        vertical-align: middle;\n",
       "    }\n",
       "\n",
       "    .dataframe tbody tr th {\n",
       "        vertical-align: top;\n",
       "    }\n",
       "\n",
       "    .dataframe thead th {\n",
       "        text-align: right;\n",
       "    }\n",
       "</style>\n",
       "<table border=\"1\" class=\"dataframe\">\n",
       "  <thead>\n",
       "    <tr style=\"text-align: right;\">\n",
       "      <th></th>\n",
       "      <th>PassengerId</th>\n",
       "      <th>Pclass</th>\n",
       "      <th>Sex</th>\n",
       "      <th>Age</th>\n",
       "      <th>SibSp</th>\n",
       "      <th>Parch</th>\n",
       "      <th>Fare</th>\n",
       "      <th>Embarked</th>\n",
       "    </tr>\n",
       "  </thead>\n",
       "  <tbody>\n",
       "    <tr>\n",
       "      <th>count</th>\n",
       "      <td>418.000000</td>\n",
       "      <td>418.000000</td>\n",
       "      <td>418.000000</td>\n",
       "      <td>418.000000</td>\n",
       "      <td>418.000000</td>\n",
       "      <td>418.000000</td>\n",
       "      <td>418.000000</td>\n",
       "      <td>418.000000</td>\n",
       "    </tr>\n",
       "    <tr>\n",
       "      <th>mean</th>\n",
       "      <td>1100.500000</td>\n",
       "      <td>2.265550</td>\n",
       "      <td>0.363636</td>\n",
       "      <td>29.599282</td>\n",
       "      <td>0.447368</td>\n",
       "      <td>0.392344</td>\n",
       "      <td>35.576535</td>\n",
       "      <td>0.464115</td>\n",
       "    </tr>\n",
       "    <tr>\n",
       "      <th>std</th>\n",
       "      <td>120.810458</td>\n",
       "      <td>0.841838</td>\n",
       "      <td>0.481622</td>\n",
       "      <td>12.703770</td>\n",
       "      <td>0.896760</td>\n",
       "      <td>0.981429</td>\n",
       "      <td>55.850103</td>\n",
       "      <td>0.685516</td>\n",
       "    </tr>\n",
       "    <tr>\n",
       "      <th>min</th>\n",
       "      <td>892.000000</td>\n",
       "      <td>1.000000</td>\n",
       "      <td>0.000000</td>\n",
       "      <td>0.170000</td>\n",
       "      <td>0.000000</td>\n",
       "      <td>0.000000</td>\n",
       "      <td>0.000000</td>\n",
       "      <td>0.000000</td>\n",
       "    </tr>\n",
       "    <tr>\n",
       "      <th>25%</th>\n",
       "      <td>996.250000</td>\n",
       "      <td>1.000000</td>\n",
       "      <td>0.000000</td>\n",
       "      <td>23.000000</td>\n",
       "      <td>0.000000</td>\n",
       "      <td>0.000000</td>\n",
       "      <td>7.895800</td>\n",
       "      <td>0.000000</td>\n",
       "    </tr>\n",
       "    <tr>\n",
       "      <th>50%</th>\n",
       "      <td>1100.500000</td>\n",
       "      <td>3.000000</td>\n",
       "      <td>0.000000</td>\n",
       "      <td>27.000000</td>\n",
       "      <td>0.000000</td>\n",
       "      <td>0.000000</td>\n",
       "      <td>14.454200</td>\n",
       "      <td>0.000000</td>\n",
       "    </tr>\n",
       "    <tr>\n",
       "      <th>75%</th>\n",
       "      <td>1204.750000</td>\n",
       "      <td>3.000000</td>\n",
       "      <td>1.000000</td>\n",
       "      <td>35.750000</td>\n",
       "      <td>1.000000</td>\n",
       "      <td>0.000000</td>\n",
       "      <td>31.471875</td>\n",
       "      <td>1.000000</td>\n",
       "    </tr>\n",
       "    <tr>\n",
       "      <th>max</th>\n",
       "      <td>1309.000000</td>\n",
       "      <td>3.000000</td>\n",
       "      <td>1.000000</td>\n",
       "      <td>76.000000</td>\n",
       "      <td>8.000000</td>\n",
       "      <td>9.000000</td>\n",
       "      <td>512.329200</td>\n",
       "      <td>2.000000</td>\n",
       "    </tr>\n",
       "  </tbody>\n",
       "</table>\n",
       "</div>"
      ],
      "text/plain": [
       "       PassengerId      Pclass         Sex         Age       SibSp  \\\n",
       "count   418.000000  418.000000  418.000000  418.000000  418.000000   \n",
       "mean   1100.500000    2.265550    0.363636   29.599282    0.447368   \n",
       "std     120.810458    0.841838    0.481622   12.703770    0.896760   \n",
       "min     892.000000    1.000000    0.000000    0.170000    0.000000   \n",
       "25%     996.250000    1.000000    0.000000   23.000000    0.000000   \n",
       "50%    1100.500000    3.000000    0.000000   27.000000    0.000000   \n",
       "75%    1204.750000    3.000000    1.000000   35.750000    1.000000   \n",
       "max    1309.000000    3.000000    1.000000   76.000000    8.000000   \n",
       "\n",
       "            Parch        Fare    Embarked  \n",
       "count  418.000000  418.000000  418.000000  \n",
       "mean     0.392344   35.576535    0.464115  \n",
       "std      0.981429   55.850103    0.685516  \n",
       "min      0.000000    0.000000    0.000000  \n",
       "25%      0.000000    7.895800    0.000000  \n",
       "50%      0.000000   14.454200    0.000000  \n",
       "75%      0.000000   31.471875    1.000000  \n",
       "max      9.000000  512.329200    2.000000  "
      ]
     },
     "execution_count": 45,
     "metadata": {},
     "output_type": "execute_result"
    }
   ],
   "source": [
    "test.describe()"
   ]
  },
  {
   "cell_type": "markdown",
   "id": "sunrise-roots",
   "metadata": {
    "papermill": {
     "duration": 0.063704,
     "end_time": "2021-06-12T18:54:33.010765",
     "exception": false,
     "start_time": "2021-06-12T18:54:32.947061",
     "status": "completed"
    },
    "tags": []
   },
   "source": [
    "**1. Naive Bayes** (0.79)"
   ]
  },
  {
   "cell_type": "code",
   "execution_count": 46,
   "id": "sticky-boutique",
   "metadata": {
    "execution": {
     "iopub.execute_input": "2021-06-12T18:54:33.143451Z",
     "iopub.status.busy": "2021-06-12T18:54:33.142842Z",
     "iopub.status.idle": "2021-06-12T18:54:33.179531Z",
     "shell.execute_reply": "2021-06-12T18:54:33.178791Z",
     "shell.execute_reply.started": "2021-06-12T18:44:47.115092Z"
    },
    "papermill": {
     "duration": 0.103573,
     "end_time": "2021-06-12T18:54:33.179731",
     "exception": false,
     "start_time": "2021-06-12T18:54:33.076158",
     "status": "completed"
    },
    "tags": []
   },
   "outputs": [
    {
     "name": "stdout",
     "output_type": "stream",
     "text": [
      "[0.76836158 0.78977273 0.79545455 0.78409091 0.79545455]\n",
      "0.7866268618387262\n"
     ]
    }
   ],
   "source": [
    "gnb = GaussianNB()\n",
    "cv_gnb = cross_val_score(gnb,x_train,y_train,cv=5)\n",
    "print(cv_gnb)\n",
    "print(cv_gnb.mean())"
   ]
  },
  {
   "cell_type": "markdown",
   "id": "average-question",
   "metadata": {
    "papermill": {
     "duration": 0.063477,
     "end_time": "2021-06-12T18:54:33.307913",
     "exception": false,
     "start_time": "2021-06-12T18:54:33.244436",
     "status": "completed"
    },
    "tags": []
   },
   "source": [
    "**2. Logistic regression** (0.78)"
   ]
  },
  {
   "cell_type": "code",
   "execution_count": 47,
   "id": "tamil-gathering",
   "metadata": {
    "execution": {
     "iopub.execute_input": "2021-06-12T18:54:33.440286Z",
     "iopub.status.busy": "2021-06-12T18:54:33.439660Z",
     "iopub.status.idle": "2021-06-12T18:54:33.616017Z",
     "shell.execute_reply": "2021-06-12T18:54:33.615488Z",
     "shell.execute_reply.started": "2021-06-12T18:44:47.158973Z"
    },
    "papermill": {
     "duration": 0.244761,
     "end_time": "2021-06-12T18:54:33.616163",
     "exception": false,
     "start_time": "2021-06-12T18:54:33.371402",
     "status": "completed"
    },
    "tags": []
   },
   "outputs": [
    {
     "name": "stdout",
     "output_type": "stream",
     "text": [
      "[0.78531073 0.78977273 0.77840909 0.75568182 0.82386364]\n",
      "0.7866076014381099\n"
     ]
    }
   ],
   "source": [
    "lr = LogisticRegression(max_iter = 2000)\n",
    "cv_lr = cross_val_score(lr,x_train,y_train,cv=5)\n",
    "print(cv_lr)\n",
    "print(cv_lr.mean())"
   ]
  },
  {
   "cell_type": "markdown",
   "id": "specified-output",
   "metadata": {
    "papermill": {
     "duration": 0.071924,
     "end_time": "2021-06-12T18:54:33.753978",
     "exception": false,
     "start_time": "2021-06-12T18:54:33.682054",
     "status": "completed"
    },
    "tags": []
   },
   "source": [
    "**3. Decision Tree** (0.73)"
   ]
  },
  {
   "cell_type": "code",
   "execution_count": 48,
   "id": "intimate-settlement",
   "metadata": {
    "execution": {
     "iopub.execute_input": "2021-06-12T18:54:33.911562Z",
     "iopub.status.busy": "2021-06-12T18:54:33.910960Z",
     "iopub.status.idle": "2021-06-12T18:54:33.949577Z",
     "shell.execute_reply": "2021-06-12T18:54:33.948765Z",
     "shell.execute_reply.started": "2021-06-12T18:44:47.340867Z"
    },
    "papermill": {
     "duration": 0.110174,
     "end_time": "2021-06-12T18:54:33.949765",
     "exception": false,
     "start_time": "2021-06-12T18:54:33.839591",
     "status": "completed"
    },
    "tags": []
   },
   "outputs": [
    {
     "name": "stdout",
     "output_type": "stream",
     "text": [
      "[0.73446328 0.78977273 0.80681818 0.75568182 0.80681818]\n",
      "0.7787108371854135\n"
     ]
    }
   ],
   "source": [
    "dt = tree.DecisionTreeClassifier(random_state = 1)\n",
    "cv_dt = cross_val_score(dt,x_train,y_train,cv=5)\n",
    "print(cv_dt)\n",
    "print(cv_dt.mean())"
   ]
  },
  {
   "cell_type": "markdown",
   "id": "identical-stewart",
   "metadata": {
    "papermill": {
     "duration": 0.064884,
     "end_time": "2021-06-12T18:54:34.080623",
     "exception": false,
     "start_time": "2021-06-12T18:54:34.015739",
     "status": "completed"
    },
    "tags": []
   },
   "source": [
    "**4. K Nearest Neighbor** (0.545)"
   ]
  },
  {
   "cell_type": "code",
   "execution_count": 49,
   "id": "configured-asthma",
   "metadata": {
    "execution": {
     "iopub.execute_input": "2021-06-12T18:54:34.217732Z",
     "iopub.status.busy": "2021-06-12T18:54:34.216648Z",
     "iopub.status.idle": "2021-06-12T18:54:34.280958Z",
     "shell.execute_reply": "2021-06-12T18:54:34.280457Z",
     "shell.execute_reply.started": "2021-06-12T18:44:47.387305Z"
    },
    "papermill": {
     "duration": 0.13468,
     "end_time": "2021-06-12T18:54:34.281091",
     "exception": false,
     "start_time": "2021-06-12T18:54:34.146411",
     "status": "completed"
    },
    "tags": []
   },
   "outputs": [
    {
     "name": "stdout",
     "output_type": "stream",
     "text": [
      "[0.63841808 0.65909091 0.68181818 0.71590909 0.72159091]\n",
      "0.6833654340010271\n"
     ]
    }
   ],
   "source": [
    "knn = KNeighborsClassifier()\n",
    "cv_knn = cross_val_score(knn,x_train,y_train,cv=5)\n",
    "print(cv_knn)\n",
    "print(cv_knn.mean())"
   ]
  },
  {
   "cell_type": "markdown",
   "id": "metropolitan-divorce",
   "metadata": {
    "papermill": {
     "duration": 0.064299,
     "end_time": "2021-06-12T18:54:34.410321",
     "exception": false,
     "start_time": "2021-06-12T18:54:34.346022",
     "status": "completed"
    },
    "tags": []
   },
   "source": [
    "**5. Random Forest** (0.802)"
   ]
  },
  {
   "cell_type": "code",
   "execution_count": 50,
   "id": "defined-jacob",
   "metadata": {
    "execution": {
     "iopub.execute_input": "2021-06-12T18:54:34.544176Z",
     "iopub.status.busy": "2021-06-12T18:54:34.543484Z",
     "iopub.status.idle": "2021-06-12T18:54:35.442107Z",
     "shell.execute_reply": "2021-06-12T18:54:35.441592Z",
     "shell.execute_reply.started": "2021-06-12T18:44:47.456324Z"
    },
    "papermill": {
     "duration": 0.967482,
     "end_time": "2021-06-12T18:54:35.442254",
     "exception": false,
     "start_time": "2021-06-12T18:54:34.474772",
     "status": "completed"
    },
    "tags": []
   },
   "outputs": [
    {
     "name": "stdout",
     "output_type": "stream",
     "text": [
      "[0.79096045 0.80681818 0.85795455 0.76704545 0.82386364]\n",
      "0.809328454031844\n"
     ]
    }
   ],
   "source": [
    "rf = RandomForestClassifier(random_state = 1)\n",
    "cv_rf = cross_val_score(rf,x_train,y_train,cv=5)\n",
    "print(cv_rf)\n",
    "print(cv_rf.mean())\n"
   ]
  },
  {
   "cell_type": "markdown",
   "id": "important-telling",
   "metadata": {
    "papermill": {
     "duration": 0.064418,
     "end_time": "2021-06-12T18:54:35.571638",
     "exception": false,
     "start_time": "2021-06-12T18:54:35.507220",
     "status": "completed"
    },
    "tags": []
   },
   "source": [
    "**6. Support Vector Classifier** (0.645)"
   ]
  },
  {
   "cell_type": "code",
   "execution_count": 51,
   "id": "corrected-cotton",
   "metadata": {
    "execution": {
     "iopub.execute_input": "2021-06-12T18:54:35.707316Z",
     "iopub.status.busy": "2021-06-12T18:54:35.706378Z",
     "iopub.status.idle": "2021-06-12T18:54:36.306065Z",
     "shell.execute_reply": "2021-06-12T18:54:36.306610Z",
     "shell.execute_reply.started": "2021-06-12T18:44:48.388998Z"
    },
    "papermill": {
     "duration": 0.670587,
     "end_time": "2021-06-12T18:54:36.306776",
     "exception": false,
     "start_time": "2021-06-12T18:54:35.636189",
     "status": "completed"
    },
    "tags": []
   },
   "outputs": [
    {
     "name": "stdout",
     "output_type": "stream",
     "text": [
      "[0.57062147 0.72727273 0.68181818 0.69886364 0.70454545]\n",
      "0.6766242937853107\n"
     ]
    }
   ],
   "source": [
    "svc = SVC(probability = True)\n",
    "cv_xgb = cross_val_score(svc,x_train,y_train,cv=5)\n",
    "print(cv_xgb)\n",
    "print(cv_xgb.mean())"
   ]
  },
  {
   "cell_type": "markdown",
   "id": "applied-group",
   "metadata": {
    "papermill": {
     "duration": 0.064931,
     "end_time": "2021-06-12T18:54:36.436360",
     "exception": false,
     "start_time": "2021-06-12T18:54:36.371429",
     "status": "completed"
    },
    "tags": []
   },
   "source": [
    "# model evaluation "
   ]
  },
  {
   "cell_type": "code",
   "execution_count": 52,
   "id": "introductory-failure",
   "metadata": {
    "execution": {
     "iopub.execute_input": "2021-06-12T18:54:36.577906Z",
     "iopub.status.busy": "2021-06-12T18:54:36.577254Z",
     "iopub.status.idle": "2021-06-12T18:54:36.581489Z",
     "shell.execute_reply": "2021-06-12T18:54:36.581053Z",
     "shell.execute_reply.started": "2021-06-12T18:44:49.000704Z"
    },
    "papermill": {
     "duration": 0.080528,
     "end_time": "2021-06-12T18:54:36.581626",
     "exception": false,
     "start_time": "2021-06-12T18:54:36.501098",
     "status": "completed"
    },
    "tags": []
   },
   "outputs": [
    {
     "data": {
      "text/html": [
       "<div>\n",
       "<style scoped>\n",
       "    .dataframe tbody tr th:only-of-type {\n",
       "        vertical-align: middle;\n",
       "    }\n",
       "\n",
       "    .dataframe tbody tr th {\n",
       "        vertical-align: top;\n",
       "    }\n",
       "\n",
       "    .dataframe thead th {\n",
       "        text-align: right;\n",
       "    }\n",
       "</style>\n",
       "<table border=\"1\" class=\"dataframe\">\n",
       "  <thead>\n",
       "    <tr style=\"text-align: right;\">\n",
       "      <th></th>\n",
       "      <th>Model</th>\n",
       "      <th>Score</th>\n",
       "    </tr>\n",
       "  </thead>\n",
       "  <tbody>\n",
       "    <tr>\n",
       "      <th>0</th>\n",
       "      <td>Random Forest</td>\n",
       "      <td>80.932845</td>\n",
       "    </tr>\n",
       "    <tr>\n",
       "      <th>1</th>\n",
       "      <td>Naive Bayes</td>\n",
       "      <td>78.662686</td>\n",
       "    </tr>\n",
       "    <tr>\n",
       "      <th>2</th>\n",
       "      <td>Logistic Regression</td>\n",
       "      <td>78.660760</td>\n",
       "    </tr>\n",
       "    <tr>\n",
       "      <th>3</th>\n",
       "      <td>DecisionTreeClassifier</td>\n",
       "      <td>77.871084</td>\n",
       "    </tr>\n",
       "    <tr>\n",
       "      <th>4</th>\n",
       "      <td>KNN</td>\n",
       "      <td>68.336543</td>\n",
       "    </tr>\n",
       "    <tr>\n",
       "      <th>5</th>\n",
       "      <td>Support Vector Classifier</td>\n",
       "      <td>67.662429</td>\n",
       "    </tr>\n",
       "  </tbody>\n",
       "</table>\n",
       "</div>"
      ],
      "text/plain": [
       "                       Model      Score\n",
       "0              Random Forest  80.932845\n",
       "1                Naive Bayes  78.662686\n",
       "2        Logistic Regression  78.660760\n",
       "3     DecisionTreeClassifier  77.871084\n",
       "4                        KNN  68.336543\n",
       "5  Support Vector Classifier  67.662429"
      ]
     },
     "execution_count": 52,
     "metadata": {},
     "output_type": "execute_result"
    }
   ],
   "source": [
    "models = pd.DataFrame({'Model': ['Naive Bayes', 'KNN', 'Logistic Regression', \n",
    "                                 'Random Forest','Support Vector Classifier', 'DecisionTreeClassifier' ],\n",
    "                       'Score': [cv_gnb.mean()*100, cv_knn.mean()*100,cv_lr.mean()*100, cv_rf.mean()*100, cv_xgb.mean()*100, cv_dt.mean() *100 ]})\n",
    "\n",
    "models.sort_values(by = 'Score', ascending = False, ignore_index = True)"
   ]
  },
  {
   "cell_type": "code",
   "execution_count": 53,
   "id": "different-moral",
   "metadata": {
    "execution": {
     "iopub.execute_input": "2021-06-12T18:54:36.718697Z",
     "iopub.status.busy": "2021-06-12T18:54:36.718042Z",
     "iopub.status.idle": "2021-06-12T18:54:36.721829Z",
     "shell.execute_reply": "2021-06-12T18:54:36.722216Z",
     "shell.execute_reply.started": "2021-06-12T18:44:49.015818Z"
    },
    "papermill": {
     "duration": 0.075171,
     "end_time": "2021-06-12T18:54:36.722369",
     "exception": false,
     "start_time": "2021-06-12T18:54:36.647198",
     "status": "completed"
    },
    "tags": []
   },
   "outputs": [
    {
     "data": {
      "text/plain": [
       "6"
      ]
     },
     "execution_count": 53,
     "metadata": {},
     "output_type": "execute_result"
    }
   ],
   "source": [
    "\n",
    "classifiers = []\n",
    "classifiers.append(LogisticRegression())\n",
    "classifiers.append(KNeighborsClassifier(n_neighbors = 5))\n",
    "classifiers.append(GaussianNB())\n",
    "classifiers.append(SVC())\n",
    "classifiers.append(DecisionTreeClassifier())\n",
    "classifiers.append(RandomForestClassifier())\n",
    "\n",
    "\n",
    "len(classifiers)"
   ]
  },
  {
   "cell_type": "markdown",
   "id": "concrete-potential",
   "metadata": {
    "papermill": {
     "duration": 0.06604,
     "end_time": "2021-06-12T18:54:36.854933",
     "exception": false,
     "start_time": "2021-06-12T18:54:36.788893",
     "status": "completed"
    },
    "tags": []
   },
   "source": [
    "the loop works but I still get an error, couldn't find a solution for it so I ignored it for now"
   ]
  },
  {
   "cell_type": "code",
   "execution_count": 54,
   "id": "assumed-binding",
   "metadata": {
    "execution": {
     "iopub.execute_input": "2021-06-12T18:54:36.993309Z",
     "iopub.status.busy": "2021-06-12T18:54:36.992338Z",
     "iopub.status.idle": "2021-06-12T18:54:38.591087Z",
     "shell.execute_reply": "2021-06-12T18:54:38.590523Z",
     "shell.execute_reply.started": "2021-06-12T18:44:49.032115Z"
    },
    "papermill": {
     "duration": 1.670975,
     "end_time": "2021-06-12T18:54:38.591278",
     "exception": false,
     "start_time": "2021-06-12T18:54:36.920303",
     "status": "completed"
    },
    "tags": []
   },
   "outputs": [
    {
     "name": "stderr",
     "output_type": "stream",
     "text": [
      "/opt/conda/lib/python3.7/site-packages/sklearn/linear_model/_logistic.py:765: ConvergenceWarning: lbfgs failed to converge (status=1):\n",
      "STOP: TOTAL NO. of ITERATIONS REACHED LIMIT.\n",
      "\n",
      "Increase the number of iterations (max_iter) or scale the data as shown in:\n",
      "    https://scikit-learn.org/stable/modules/preprocessing.html\n",
      "Please also refer to the documentation for alternative solver options:\n",
      "    https://scikit-learn.org/stable/modules/linear_model.html#logistic-regression\n",
      "  extra_warning_msg=_LOGISTIC_SOLVER_CONVERGENCE_MSG)\n",
      "/opt/conda/lib/python3.7/site-packages/sklearn/linear_model/_logistic.py:765: ConvergenceWarning: lbfgs failed to converge (status=1):\n",
      "STOP: TOTAL NO. of ITERATIONS REACHED LIMIT.\n",
      "\n",
      "Increase the number of iterations (max_iter) or scale the data as shown in:\n",
      "    https://scikit-learn.org/stable/modules/preprocessing.html\n",
      "Please also refer to the documentation for alternative solver options:\n",
      "    https://scikit-learn.org/stable/modules/linear_model.html#logistic-regression\n",
      "  extra_warning_msg=_LOGISTIC_SOLVER_CONVERGENCE_MSG)\n",
      "/opt/conda/lib/python3.7/site-packages/sklearn/linear_model/_logistic.py:765: ConvergenceWarning: lbfgs failed to converge (status=1):\n",
      "STOP: TOTAL NO. of ITERATIONS REACHED LIMIT.\n",
      "\n",
      "Increase the number of iterations (max_iter) or scale the data as shown in:\n",
      "    https://scikit-learn.org/stable/modules/preprocessing.html\n",
      "Please also refer to the documentation for alternative solver options:\n",
      "    https://scikit-learn.org/stable/modules/linear_model.html#logistic-regression\n",
      "  extra_warning_msg=_LOGISTIC_SOLVER_CONVERGENCE_MSG)\n",
      "/opt/conda/lib/python3.7/site-packages/sklearn/linear_model/_logistic.py:765: ConvergenceWarning: lbfgs failed to converge (status=1):\n",
      "STOP: TOTAL NO. of ITERATIONS REACHED LIMIT.\n",
      "\n",
      "Increase the number of iterations (max_iter) or scale the data as shown in:\n",
      "    https://scikit-learn.org/stable/modules/preprocessing.html\n",
      "Please also refer to the documentation for alternative solver options:\n",
      "    https://scikit-learn.org/stable/modules/linear_model.html#logistic-regression\n",
      "  extra_warning_msg=_LOGISTIC_SOLVER_CONVERGENCE_MSG)\n"
     ]
    }
   ],
   "source": [
    "\n",
    "cv_results = []\n",
    "for classifier in classifiers:\n",
    "    cv_results.append(cross_val_score(classifier, x_train, y_train, scoring = 'accuracy', cv = 6))"
   ]
  },
  {
   "cell_type": "markdown",
   "id": "liquid-exemption",
   "metadata": {
    "execution": {
     "iopub.execute_input": "2021-06-12T15:25:29.874914Z",
     "iopub.status.busy": "2021-06-12T15:25:29.874393Z",
     "iopub.status.idle": "2021-06-12T15:25:29.881339Z",
     "shell.execute_reply": "2021-06-12T15:25:29.880344Z",
     "shell.execute_reply.started": "2021-06-12T15:25:29.874877Z"
    },
    "papermill": {
     "duration": 0.06571,
     "end_time": "2021-06-12T18:54:38.723895",
     "exception": false,
     "start_time": "2021-06-12T18:54:38.658185",
     "status": "completed"
    },
    "tags": []
   },
   "source": [
    "checking the above cell actually works"
   ]
  },
  {
   "cell_type": "code",
   "execution_count": 55,
   "id": "active-maldives",
   "metadata": {
    "execution": {
     "iopub.execute_input": "2021-06-12T18:54:38.863513Z",
     "iopub.status.busy": "2021-06-12T18:54:38.862926Z",
     "iopub.status.idle": "2021-06-12T18:54:38.866850Z",
     "shell.execute_reply": "2021-06-12T18:54:38.866300Z",
     "shell.execute_reply.started": "2021-06-12T18:44:50.713366Z"
    },
    "papermill": {
     "duration": 0.076536,
     "end_time": "2021-06-12T18:54:38.866981",
     "exception": false,
     "start_time": "2021-06-12T18:54:38.790445",
     "status": "completed"
    },
    "tags": []
   },
   "outputs": [
    {
     "data": {
      "text/plain": [
       "[array([0.76870748, 0.78911565, 0.80952381, 0.7755102 , 0.79591837,\n",
       "        0.82876712]),\n",
       " array([0.61904762, 0.68707483, 0.70748299, 0.70748299, 0.66666667,\n",
       "        0.76027397]),\n",
       " array([0.75510204, 0.78231293, 0.81632653, 0.78911565, 0.7755102 ,\n",
       "        0.81506849]),\n",
       " array([0.56462585, 0.71428571, 0.69387755, 0.68027211, 0.71428571,\n",
       "        0.70547945]),\n",
       " array([0.71428571, 0.76870748, 0.76870748, 0.76870748, 0.76190476,\n",
       "        0.82191781]),\n",
       " array([0.75510204, 0.79591837, 0.8707483 , 0.80952381, 0.7755102 ,\n",
       "        0.82876712])]"
      ]
     },
     "execution_count": 55,
     "metadata": {},
     "output_type": "execute_result"
    }
   ],
   "source": [
    "cv_results"
   ]
  },
  {
   "cell_type": "code",
   "execution_count": 56,
   "id": "damaged-stationery",
   "metadata": {
    "execution": {
     "iopub.execute_input": "2021-06-12T18:54:39.005843Z",
     "iopub.status.busy": "2021-06-12T18:54:39.005228Z",
     "iopub.status.idle": "2021-06-12T18:54:39.008181Z",
     "shell.execute_reply": "2021-06-12T18:54:39.007552Z",
     "shell.execute_reply.started": "2021-06-12T18:44:50.723278Z"
    },
    "papermill": {
     "duration": 0.074652,
     "end_time": "2021-06-12T18:54:39.008323",
     "exception": false,
     "start_time": "2021-06-12T18:54:38.933671",
     "status": "completed"
    },
    "tags": []
   },
   "outputs": [],
   "source": [
    "cv_mean = []\n",
    "cv_std = []\n",
    "for cv_result in cv_results:\n",
    "    cv_mean.append(cv_result.mean())\n",
    "    cv_std.append(cv_result.std())"
   ]
  },
  {
   "cell_type": "code",
   "execution_count": 57,
   "id": "strategic-exclusive",
   "metadata": {
    "execution": {
     "iopub.execute_input": "2021-06-12T18:54:39.155616Z",
     "iopub.status.busy": "2021-06-12T18:54:39.154722Z",
     "iopub.status.idle": "2021-06-12T18:54:39.159476Z",
     "shell.execute_reply": "2021-06-12T18:54:39.160045Z",
     "shell.execute_reply.started": "2021-06-12T18:44:50.737179Z"
    },
    "papermill": {
     "duration": 0.084738,
     "end_time": "2021-06-12T18:54:39.160257",
     "exception": false,
     "start_time": "2021-06-12T18:54:39.075519",
     "status": "completed"
    },
    "tags": []
   },
   "outputs": [
    {
     "data": {
      "text/html": [
       "<div>\n",
       "<style scoped>\n",
       "    .dataframe tbody tr th:only-of-type {\n",
       "        vertical-align: middle;\n",
       "    }\n",
       "\n",
       "    .dataframe tbody tr th {\n",
       "        vertical-align: top;\n",
       "    }\n",
       "\n",
       "    .dataframe thead th {\n",
       "        text-align: right;\n",
       "    }\n",
       "</style>\n",
       "<table border=\"1\" class=\"dataframe\">\n",
       "  <thead>\n",
       "    <tr style=\"text-align: right;\">\n",
       "      <th></th>\n",
       "      <th>Cross Validation Mean</th>\n",
       "      <th>Cross Validation Std</th>\n",
       "      <th>Algorithm</th>\n",
       "    </tr>\n",
       "  </thead>\n",
       "  <tbody>\n",
       "    <tr>\n",
       "      <th>0</th>\n",
       "      <td>0.805928</td>\n",
       "      <td>0.037294</td>\n",
       "      <td>SVC</td>\n",
       "    </tr>\n",
       "    <tr>\n",
       "      <th>1</th>\n",
       "      <td>0.794590</td>\n",
       "      <td>0.020235</td>\n",
       "      <td>Naive Bayes</td>\n",
       "    </tr>\n",
       "    <tr>\n",
       "      <th>2</th>\n",
       "      <td>0.788906</td>\n",
       "      <td>0.021610</td>\n",
       "      <td>Logistic Regression</td>\n",
       "    </tr>\n",
       "    <tr>\n",
       "      <th>3</th>\n",
       "      <td>0.767372</td>\n",
       "      <td>0.031168</td>\n",
       "      <td>Decission tree</td>\n",
       "    </tr>\n",
       "    <tr>\n",
       "      <th>4</th>\n",
       "      <td>0.691338</td>\n",
       "      <td>0.043062</td>\n",
       "      <td>KNN</td>\n",
       "    </tr>\n",
       "    <tr>\n",
       "      <th>5</th>\n",
       "      <td>0.678804</td>\n",
       "      <td>0.052433</td>\n",
       "      <td>Random Forest</td>\n",
       "    </tr>\n",
       "  </tbody>\n",
       "</table>\n",
       "</div>"
      ],
      "text/plain": [
       "   Cross Validation Mean  Cross Validation Std            Algorithm\n",
       "0               0.805928              0.037294                  SVC\n",
       "1               0.794590              0.020235          Naive Bayes\n",
       "2               0.788906              0.021610  Logistic Regression\n",
       "3               0.767372              0.031168       Decission tree\n",
       "4               0.691338              0.043062                  KNN\n",
       "5               0.678804              0.052433        Random Forest"
      ]
     },
     "execution_count": 57,
     "metadata": {},
     "output_type": "execute_result"
    }
   ],
   "source": [
    "cv_res = pd.DataFrame({'Cross Validation Mean': cv_mean, 'Cross Validation Std': cv_std, 'Algorithm': ['Naive Bayes', 'KNN', 'Logistic Regression', \n",
    "                                 'Random Forest', 'Decission tree','SVC' ]})\n",
    "cv_res.sort_values(by = 'Cross Validation Mean', ascending = False, ignore_index = True)"
   ]
  },
  {
   "cell_type": "markdown",
   "id": "muslim-appeal",
   "metadata": {
    "papermill": {
     "duration": 0.067763,
     "end_time": "2021-06-12T18:54:39.296342",
     "exception": false,
     "start_time": "2021-06-12T18:54:39.228579",
     "status": "completed"
    },
    "tags": []
   },
   "source": [
    "tuning the parameters of SVC model, as it is the one with the highest accuracy."
   ]
  },
  {
   "cell_type": "code",
   "execution_count": 58,
   "id": "numerous-reliance",
   "metadata": {
    "execution": {
     "iopub.execute_input": "2021-06-12T18:54:39.440910Z",
     "iopub.status.busy": "2021-06-12T18:54:39.439949Z",
     "iopub.status.idle": "2021-06-12T18:54:46.283637Z",
     "shell.execute_reply": "2021-06-12T18:54:46.283166Z",
     "shell.execute_reply.started": "2021-06-12T18:44:50.760244Z"
    },
    "papermill": {
     "duration": 6.919484,
     "end_time": "2021-06-12T18:54:46.283777",
     "exception": false,
     "start_time": "2021-06-12T18:54:39.364293",
     "status": "completed"
    },
    "tags": []
   },
   "outputs": [
    {
     "name": "stdout",
     "output_type": "stream",
     "text": [
      "Fitting 5 folds for each of 25 candidates, totalling 125 fits\n",
      "[CV 1/5] END .....................C=0.1, gamma=1, kernel=rbf; total time=   0.0s\n",
      "[CV 2/5] END .....................C=0.1, gamma=1, kernel=rbf; total time=   0.0s\n",
      "[CV 3/5] END .....................C=0.1, gamma=1, kernel=rbf; total time=   0.0s\n",
      "[CV 4/5] END .....................C=0.1, gamma=1, kernel=rbf; total time=   0.0s\n",
      "[CV 5/5] END .....................C=0.1, gamma=1, kernel=rbf; total time=   0.0s\n",
      "[CV 1/5] END ...................C=0.1, gamma=0.1, kernel=rbf; total time=   0.0s\n",
      "[CV 2/5] END ...................C=0.1, gamma=0.1, kernel=rbf; total time=   0.0s\n",
      "[CV 3/5] END ...................C=0.1, gamma=0.1, kernel=rbf; total time=   0.0s\n",
      "[CV 4/5] END ...................C=0.1, gamma=0.1, kernel=rbf; total time=   0.0s\n",
      "[CV 5/5] END ...................C=0.1, gamma=0.1, kernel=rbf; total time=   0.0s\n",
      "[CV 1/5] END ..................C=0.1, gamma=0.01, kernel=rbf; total time=   0.0s\n",
      "[CV 2/5] END ..................C=0.1, gamma=0.01, kernel=rbf; total time=   0.0s\n",
      "[CV 3/5] END ..................C=0.1, gamma=0.01, kernel=rbf; total time=   0.0s\n",
      "[CV 4/5] END ..................C=0.1, gamma=0.01, kernel=rbf; total time=   0.0s\n",
      "[CV 5/5] END ..................C=0.1, gamma=0.01, kernel=rbf; total time=   0.0s\n",
      "[CV 1/5] END .................C=0.1, gamma=0.001, kernel=rbf; total time=   0.0s\n",
      "[CV 2/5] END .................C=0.1, gamma=0.001, kernel=rbf; total time=   0.0s\n",
      "[CV 3/5] END .................C=0.1, gamma=0.001, kernel=rbf; total time=   0.0s\n",
      "[CV 4/5] END .................C=0.1, gamma=0.001, kernel=rbf; total time=   0.0s\n",
      "[CV 5/5] END .................C=0.1, gamma=0.001, kernel=rbf; total time=   0.0s\n",
      "[CV 1/5] END ................C=0.1, gamma=0.0001, kernel=rbf; total time=   0.0s\n",
      "[CV 2/5] END ................C=0.1, gamma=0.0001, kernel=rbf; total time=   0.0s\n",
      "[CV 3/5] END ................C=0.1, gamma=0.0001, kernel=rbf; total time=   0.0s\n",
      "[CV 4/5] END ................C=0.1, gamma=0.0001, kernel=rbf; total time=   0.0s\n",
      "[CV 5/5] END ................C=0.1, gamma=0.0001, kernel=rbf; total time=   0.0s\n",
      "[CV 1/5] END .......................C=1, gamma=1, kernel=rbf; total time=   0.0s\n",
      "[CV 2/5] END .......................C=1, gamma=1, kernel=rbf; total time=   0.0s\n",
      "[CV 3/5] END .......................C=1, gamma=1, kernel=rbf; total time=   0.0s\n",
      "[CV 4/5] END .......................C=1, gamma=1, kernel=rbf; total time=   0.0s\n",
      "[CV 5/5] END .......................C=1, gamma=1, kernel=rbf; total time=   0.0s\n",
      "[CV 1/5] END .....................C=1, gamma=0.1, kernel=rbf; total time=   0.0s\n",
      "[CV 2/5] END .....................C=1, gamma=0.1, kernel=rbf; total time=   0.0s\n",
      "[CV 3/5] END .....................C=1, gamma=0.1, kernel=rbf; total time=   0.0s\n",
      "[CV 4/5] END .....................C=1, gamma=0.1, kernel=rbf; total time=   0.0s\n",
      "[CV 5/5] END .....................C=1, gamma=0.1, kernel=rbf; total time=   0.0s\n",
      "[CV 1/5] END ....................C=1, gamma=0.01, kernel=rbf; total time=   0.0s\n",
      "[CV 2/5] END ....................C=1, gamma=0.01, kernel=rbf; total time=   0.0s\n",
      "[CV 3/5] END ....................C=1, gamma=0.01, kernel=rbf; total time=   0.0s\n",
      "[CV 4/5] END ....................C=1, gamma=0.01, kernel=rbf; total time=   0.0s\n",
      "[CV 5/5] END ....................C=1, gamma=0.01, kernel=rbf; total time=   0.0s\n",
      "[CV 1/5] END ...................C=1, gamma=0.001, kernel=rbf; total time=   0.0s\n",
      "[CV 2/5] END ...................C=1, gamma=0.001, kernel=rbf; total time=   0.0s\n",
      "[CV 3/5] END ...................C=1, gamma=0.001, kernel=rbf; total time=   0.0s\n",
      "[CV 4/5] END ...................C=1, gamma=0.001, kernel=rbf; total time=   0.0s\n",
      "[CV 5/5] END ...................C=1, gamma=0.001, kernel=rbf; total time=   0.0s\n",
      "[CV 1/5] END ..................C=1, gamma=0.0001, kernel=rbf; total time=   0.0s\n",
      "[CV 2/5] END ..................C=1, gamma=0.0001, kernel=rbf; total time=   0.0s\n",
      "[CV 3/5] END ..................C=1, gamma=0.0001, kernel=rbf; total time=   0.0s\n",
      "[CV 4/5] END ..................C=1, gamma=0.0001, kernel=rbf; total time=   0.0s\n",
      "[CV 5/5] END ..................C=1, gamma=0.0001, kernel=rbf; total time=   0.0s\n",
      "[CV 1/5] END ......................C=10, gamma=1, kernel=rbf; total time=   0.0s\n",
      "[CV 2/5] END ......................C=10, gamma=1, kernel=rbf; total time=   0.0s\n",
      "[CV 3/5] END ......................C=10, gamma=1, kernel=rbf; total time=   0.0s\n",
      "[CV 4/5] END ......................C=10, gamma=1, kernel=rbf; total time=   0.0s\n",
      "[CV 5/5] END ......................C=10, gamma=1, kernel=rbf; total time=   0.0s\n",
      "[CV 1/5] END ....................C=10, gamma=0.1, kernel=rbf; total time=   0.0s\n",
      "[CV 2/5] END ....................C=10, gamma=0.1, kernel=rbf; total time=   0.0s\n",
      "[CV 3/5] END ....................C=10, gamma=0.1, kernel=rbf; total time=   0.0s\n",
      "[CV 4/5] END ....................C=10, gamma=0.1, kernel=rbf; total time=   0.0s\n",
      "[CV 5/5] END ....................C=10, gamma=0.1, kernel=rbf; total time=   0.0s\n",
      "[CV 1/5] END ...................C=10, gamma=0.01, kernel=rbf; total time=   0.0s\n",
      "[CV 2/5] END ...................C=10, gamma=0.01, kernel=rbf; total time=   0.0s\n",
      "[CV 3/5] END ...................C=10, gamma=0.01, kernel=rbf; total time=   0.0s\n",
      "[CV 4/5] END ...................C=10, gamma=0.01, kernel=rbf; total time=   0.0s\n",
      "[CV 5/5] END ...................C=10, gamma=0.01, kernel=rbf; total time=   0.0s\n",
      "[CV 1/5] END ..................C=10, gamma=0.001, kernel=rbf; total time=   0.0s\n",
      "[CV 2/5] END ..................C=10, gamma=0.001, kernel=rbf; total time=   0.0s\n",
      "[CV 3/5] END ..................C=10, gamma=0.001, kernel=rbf; total time=   0.0s\n",
      "[CV 4/5] END ..................C=10, gamma=0.001, kernel=rbf; total time=   0.0s\n",
      "[CV 5/5] END ..................C=10, gamma=0.001, kernel=rbf; total time=   0.0s\n",
      "[CV 1/5] END .................C=10, gamma=0.0001, kernel=rbf; total time=   0.0s\n",
      "[CV 2/5] END .................C=10, gamma=0.0001, kernel=rbf; total time=   0.0s\n",
      "[CV 3/5] END .................C=10, gamma=0.0001, kernel=rbf; total time=   0.0s\n",
      "[CV 4/5] END .................C=10, gamma=0.0001, kernel=rbf; total time=   0.0s\n",
      "[CV 5/5] END .................C=10, gamma=0.0001, kernel=rbf; total time=   0.0s\n",
      "[CV 1/5] END .....................C=100, gamma=1, kernel=rbf; total time=   0.0s\n",
      "[CV 2/5] END .....................C=100, gamma=1, kernel=rbf; total time=   0.1s\n",
      "[CV 3/5] END .....................C=100, gamma=1, kernel=rbf; total time=   0.0s\n",
      "[CV 4/5] END .....................C=100, gamma=1, kernel=rbf; total time=   0.0s\n",
      "[CV 5/5] END .....................C=100, gamma=1, kernel=rbf; total time=   0.1s\n",
      "[CV 1/5] END ...................C=100, gamma=0.1, kernel=rbf; total time=   0.1s\n",
      "[CV 2/5] END ...................C=100, gamma=0.1, kernel=rbf; total time=   0.1s\n",
      "[CV 3/5] END ...................C=100, gamma=0.1, kernel=rbf; total time=   0.0s\n",
      "[CV 4/5] END ...................C=100, gamma=0.1, kernel=rbf; total time=   0.1s\n",
      "[CV 5/5] END ...................C=100, gamma=0.1, kernel=rbf; total time=   0.1s\n",
      "[CV 1/5] END ..................C=100, gamma=0.01, kernel=rbf; total time=   0.1s\n",
      "[CV 2/5] END ..................C=100, gamma=0.01, kernel=rbf; total time=   0.1s\n",
      "[CV 3/5] END ..................C=100, gamma=0.01, kernel=rbf; total time=   0.1s\n",
      "[CV 4/5] END ..................C=100, gamma=0.01, kernel=rbf; total time=   0.1s\n",
      "[CV 5/5] END ..................C=100, gamma=0.01, kernel=rbf; total time=   0.1s\n",
      "[CV 1/5] END .................C=100, gamma=0.001, kernel=rbf; total time=   0.0s\n",
      "[CV 2/5] END .................C=100, gamma=0.001, kernel=rbf; total time=   0.0s\n",
      "[CV 3/5] END .................C=100, gamma=0.001, kernel=rbf; total time=   0.0s\n",
      "[CV 4/5] END .................C=100, gamma=0.001, kernel=rbf; total time=   0.0s\n",
      "[CV 5/5] END .................C=100, gamma=0.001, kernel=rbf; total time=   0.1s\n",
      "[CV 1/5] END ................C=100, gamma=0.0001, kernel=rbf; total time=   0.0s\n",
      "[CV 2/5] END ................C=100, gamma=0.0001, kernel=rbf; total time=   0.0s\n",
      "[CV 3/5] END ................C=100, gamma=0.0001, kernel=rbf; total time=   0.0s\n",
      "[CV 4/5] END ................C=100, gamma=0.0001, kernel=rbf; total time=   0.0s\n",
      "[CV 5/5] END ................C=100, gamma=0.0001, kernel=rbf; total time=   0.0s\n",
      "[CV 1/5] END ....................C=1000, gamma=1, kernel=rbf; total time=   0.0s\n",
      "[CV 2/5] END ....................C=1000, gamma=1, kernel=rbf; total time=   0.1s\n",
      "[CV 3/5] END ....................C=1000, gamma=1, kernel=rbf; total time=   0.0s\n",
      "[CV 4/5] END ....................C=1000, gamma=1, kernel=rbf; total time=   0.1s\n",
      "[CV 5/5] END ....................C=1000, gamma=1, kernel=rbf; total time=   0.1s\n",
      "[CV 1/5] END ..................C=1000, gamma=0.1, kernel=rbf; total time=   0.1s\n",
      "[CV 2/5] END ..................C=1000, gamma=0.1, kernel=rbf; total time=   0.1s\n",
      "[CV 3/5] END ..................C=1000, gamma=0.1, kernel=rbf; total time=   0.1s\n",
      "[CV 4/5] END ..................C=1000, gamma=0.1, kernel=rbf; total time=   0.1s\n",
      "[CV 5/5] END ..................C=1000, gamma=0.1, kernel=rbf; total time=   0.1s\n",
      "[CV 1/5] END .................C=1000, gamma=0.01, kernel=rbf; total time=   0.2s\n",
      "[CV 2/5] END .................C=1000, gamma=0.01, kernel=rbf; total time=   0.2s\n",
      "[CV 3/5] END .................C=1000, gamma=0.01, kernel=rbf; total time=   0.1s\n",
      "[CV 4/5] END .................C=1000, gamma=0.01, kernel=rbf; total time=   0.2s\n",
      "[CV 5/5] END .................C=1000, gamma=0.01, kernel=rbf; total time=   0.2s\n",
      "[CV 1/5] END ................C=1000, gamma=0.001, kernel=rbf; total time=   0.1s\n",
      "[CV 2/5] END ................C=1000, gamma=0.001, kernel=rbf; total time=   0.1s\n",
      "[CV 3/5] END ................C=1000, gamma=0.001, kernel=rbf; total time=   0.1s\n",
      "[CV 4/5] END ................C=1000, gamma=0.001, kernel=rbf; total time=   0.2s\n",
      "[CV 5/5] END ................C=1000, gamma=0.001, kernel=rbf; total time=   0.2s\n",
      "[CV 1/5] END ...............C=1000, gamma=0.0001, kernel=rbf; total time=   0.1s\n",
      "[CV 2/5] END ...............C=1000, gamma=0.0001, kernel=rbf; total time=   0.1s\n",
      "[CV 3/5] END ...............C=1000, gamma=0.0001, kernel=rbf; total time=   0.1s\n",
      "[CV 4/5] END ...............C=1000, gamma=0.0001, kernel=rbf; total time=   0.1s\n",
      "[CV 5/5] END ...............C=1000, gamma=0.0001, kernel=rbf; total time=   0.1s\n"
     ]
    },
    {
     "data": {
      "text/plain": [
       "GridSearchCV(estimator=SVC(),\n",
       "             param_grid={'C': [0.1, 1, 10, 100, 1000],\n",
       "                         'gamma': [1, 0.1, 0.01, 0.001, 0.0001],\n",
       "                         'kernel': ['rbf']},\n",
       "             verbose=3)"
      ]
     },
     "execution_count": 58,
     "metadata": {},
     "output_type": "execute_result"
    }
   ],
   "source": [
    "param_grid = {'C': [0.1, 1, 10, 100, 1000],  \n",
    "              'gamma': [1, 0.1, 0.01, 0.001, 0.0001], \n",
    "              'kernel': ['rbf']}  \n",
    "  \n",
    "grid = GridSearchCV(SVC(), param_grid, refit = True, verbose = 3) \n",
    "\n",
    "grid.fit(x_train, y_train)"
   ]
  },
  {
   "cell_type": "markdown",
   "id": "latin-premium",
   "metadata": {
    "papermill": {
     "duration": 0.072715,
     "end_time": "2021-06-12T18:54:46.430450",
     "exception": false,
     "start_time": "2021-06-12T18:54:46.357735",
     "status": "completed"
    },
    "tags": []
   },
   "source": [
    "printing the optimal parameters of the modell to be used in the predection process"
   ]
  },
  {
   "cell_type": "code",
   "execution_count": 59,
   "id": "rational-xerox",
   "metadata": {
    "execution": {
     "iopub.execute_input": "2021-06-12T18:54:46.581890Z",
     "iopub.status.busy": "2021-06-12T18:54:46.580902Z",
     "iopub.status.idle": "2021-06-12T18:54:46.586643Z",
     "shell.execute_reply": "2021-06-12T18:54:46.586196Z",
     "shell.execute_reply.started": "2021-06-12T18:44:57.615902Z"
    },
    "papermill": {
     "duration": 0.083596,
     "end_time": "2021-06-12T18:54:46.586780",
     "exception": false,
     "start_time": "2021-06-12T18:54:46.503184",
     "status": "completed"
    },
    "tags": []
   },
   "outputs": [
    {
     "name": "stdout",
     "output_type": "stream",
     "text": [
      "Best parameters:  {'C': 1000, 'gamma': 0.001, 'kernel': 'rbf'}\n",
      "Best estimator:  SVC(C=1000, gamma=0.001)\n"
     ]
    }
   ],
   "source": [
    "print(\"Best parameters: \", grid.best_params_) \n",
    "print(\"Best estimator: \", grid.best_estimator_)"
   ]
  },
  {
   "cell_type": "code",
   "execution_count": 60,
   "id": "express-destruction",
   "metadata": {
    "execution": {
     "iopub.execute_input": "2021-06-12T18:54:46.758722Z",
     "iopub.status.busy": "2021-06-12T18:54:46.757842Z",
     "iopub.status.idle": "2021-06-12T18:54:46.970349Z",
     "shell.execute_reply": "2021-06-12T18:54:46.970756Z",
     "shell.execute_reply.started": "2021-06-12T18:44:57.624619Z"
    },
    "papermill": {
     "duration": 0.306214,
     "end_time": "2021-06-12T18:54:46.970949",
     "exception": false,
     "start_time": "2021-06-12T18:54:46.664735",
     "status": "completed"
    },
    "tags": []
   },
   "outputs": [
    {
     "data": {
      "text/plain": [
       "85.93"
      ]
     },
     "execution_count": 60,
     "metadata": {},
     "output_type": "execute_result"
    }
   ],
   "source": [
    "\n",
    "svc = SVC(C = 1000, gamma = 0.001, kernel = 'rbf')\n",
    "svc.fit(x_train, y_train)\n",
    "Y_pred = svc.predict(x_test)\n",
    "acc_svc = round(svc.score(x_train, y_train) * 100, 2)\n",
    "acc_svc"
   ]
  },
  {
   "cell_type": "markdown",
   "id": "czech-talent",
   "metadata": {
    "papermill": {
     "duration": 0.075405,
     "end_time": "2021-06-12T18:54:47.127000",
     "exception": false,
     "start_time": "2021-06-12T18:54:47.051595",
     "status": "completed"
    },
    "tags": []
   },
   "source": [
    "the mean cross validation score"
   ]
  },
  {
   "cell_type": "code",
   "execution_count": 61,
   "id": "descending-wheel",
   "metadata": {
    "execution": {
     "iopub.execute_input": "2021-06-12T18:54:47.283440Z",
     "iopub.status.busy": "2021-06-12T18:54:47.282794Z",
     "iopub.status.idle": "2021-06-12T18:54:48.182598Z",
     "shell.execute_reply": "2021-06-12T18:54:48.182999Z",
     "shell.execute_reply.started": "2021-06-12T18:44:57.823729Z"
    },
    "papermill": {
     "duration": 0.981,
     "end_time": "2021-06-12T18:54:48.183163",
     "exception": false,
     "start_time": "2021-06-12T18:54:47.202163",
     "status": "completed"
    },
    "tags": []
   },
   "outputs": [
    {
     "data": {
      "text/plain": [
       "0.7934799490572484"
      ]
     },
     "execution_count": 61,
     "metadata": {},
     "output_type": "execute_result"
    }
   ],
   "source": [
    "cross_val_score(svc, x_train, y_train, scoring = 'accuracy', cv = 6).mean()"
   ]
  },
  {
   "cell_type": "code",
   "execution_count": 62,
   "id": "actual-encyclopedia",
   "metadata": {
    "execution": {
     "iopub.execute_input": "2021-06-12T18:54:48.336102Z",
     "iopub.status.busy": "2021-06-12T18:54:48.335155Z",
     "iopub.status.idle": "2021-06-12T18:54:48.340614Z",
     "shell.execute_reply": "2021-06-12T18:54:48.340147Z",
     "shell.execute_reply.started": "2021-06-12T18:44:58.72464Z"
    },
    "papermill": {
     "duration": 0.082754,
     "end_time": "2021-06-12T18:54:48.340746",
     "exception": false,
     "start_time": "2021-06-12T18:54:48.257992",
     "status": "completed"
    },
    "tags": []
   },
   "outputs": [
    {
     "data": {
      "text/plain": [
       "(418, 2)"
      ]
     },
     "execution_count": 62,
     "metadata": {},
     "output_type": "execute_result"
    }
   ],
   "source": [
    "submission.shape"
   ]
  },
  {
   "cell_type": "code",
   "execution_count": 63,
   "id": "corrected-rugby",
   "metadata": {
    "execution": {
     "iopub.execute_input": "2021-06-12T18:54:48.492171Z",
     "iopub.status.busy": "2021-06-12T18:54:48.491603Z",
     "iopub.status.idle": "2021-06-12T18:54:48.499309Z",
     "shell.execute_reply": "2021-06-12T18:54:48.499713Z",
     "shell.execute_reply.started": "2021-06-12T18:44:58.73162Z"
    },
    "papermill": {
     "duration": 0.085026,
     "end_time": "2021-06-12T18:54:48.499898",
     "exception": false,
     "start_time": "2021-06-12T18:54:48.414872",
     "status": "completed"
    },
    "tags": []
   },
   "outputs": [
    {
     "data": {
      "text/html": [
       "<div>\n",
       "<style scoped>\n",
       "    .dataframe tbody tr th:only-of-type {\n",
       "        vertical-align: middle;\n",
       "    }\n",
       "\n",
       "    .dataframe tbody tr th {\n",
       "        vertical-align: top;\n",
       "    }\n",
       "\n",
       "    .dataframe thead th {\n",
       "        text-align: right;\n",
       "    }\n",
       "</style>\n",
       "<table border=\"1\" class=\"dataframe\">\n",
       "  <thead>\n",
       "    <tr style=\"text-align: right;\">\n",
       "      <th></th>\n",
       "      <th>PassengerId</th>\n",
       "      <th>Survived</th>\n",
       "    </tr>\n",
       "  </thead>\n",
       "  <tbody>\n",
       "    <tr>\n",
       "      <th>0</th>\n",
       "      <td>892</td>\n",
       "      <td>0</td>\n",
       "    </tr>\n",
       "    <tr>\n",
       "      <th>1</th>\n",
       "      <td>893</td>\n",
       "      <td>0</td>\n",
       "    </tr>\n",
       "    <tr>\n",
       "      <th>2</th>\n",
       "      <td>894</td>\n",
       "      <td>0</td>\n",
       "    </tr>\n",
       "    <tr>\n",
       "      <th>3</th>\n",
       "      <td>895</td>\n",
       "      <td>0</td>\n",
       "    </tr>\n",
       "    <tr>\n",
       "      <th>4</th>\n",
       "      <td>896</td>\n",
       "      <td>1</td>\n",
       "    </tr>\n",
       "  </tbody>\n",
       "</table>\n",
       "</div>"
      ],
      "text/plain": [
       "   PassengerId  Survived\n",
       "0          892         0\n",
       "1          893         0\n",
       "2          894         0\n",
       "3          895         0\n",
       "4          896         1"
      ]
     },
     "execution_count": 63,
     "metadata": {},
     "output_type": "execute_result"
    }
   ],
   "source": [
    "submit = pd.DataFrame({'PassengerId': test['PassengerId'], 'Survived': Y_pred})\n",
    "submit.head()"
   ]
  },
  {
   "cell_type": "markdown",
   "id": "filled-miniature",
   "metadata": {
    "papermill": {
     "duration": 0.074602,
     "end_time": "2021-06-12T18:54:48.649409",
     "exception": false,
     "start_time": "2021-06-12T18:54:48.574807",
     "status": "completed"
    },
    "tags": []
   },
   "source": [
    "download the file to my machine."
   ]
  },
  {
   "cell_type": "code",
   "execution_count": 64,
   "id": "lovely-solid",
   "metadata": {
    "execution": {
     "iopub.execute_input": "2021-06-12T18:54:48.802332Z",
     "iopub.status.busy": "2021-06-12T18:54:48.801756Z",
     "iopub.status.idle": "2021-06-12T18:54:48.810068Z",
     "shell.execute_reply": "2021-06-12T18:54:48.809413Z",
     "shell.execute_reply.started": "2021-06-12T18:53:36.069760Z"
    },
    "papermill": {
     "duration": 0.086016,
     "end_time": "2021-06-12T18:54:48.810217",
     "exception": false,
     "start_time": "2021-06-12T18:54:48.724201",
     "status": "completed"
    },
    "tags": []
   },
   "outputs": [],
   "source": [
    "submit.to_csv(\"saber.csv\", index = False)"
   ]
  },
  {
   "cell_type": "code",
   "execution_count": null,
   "id": "sensitive-upper",
   "metadata": {
    "papermill": {
     "duration": 0.074871,
     "end_time": "2021-06-12T18:54:48.962471",
     "exception": false,
     "start_time": "2021-06-12T18:54:48.887600",
     "status": "completed"
    },
    "tags": []
   },
   "outputs": [],
   "source": []
  }
 ],
 "metadata": {
  "kernelspec": {
   "display_name": "Python 3",
   "language": "python",
   "name": "python3"
  },
  "language_info": {
   "codemirror_mode": {
    "name": "ipython",
    "version": 3
   },
   "file_extension": ".py",
   "mimetype": "text/x-python",
   "name": "python",
   "nbconvert_exporter": "python",
   "pygments_lexer": "ipython3",
   "version": "3.7.10"
  },
  "papermill": {
   "default_parameters": {},
   "duration": 38.00361,
   "end_time": "2021-06-12T18:54:50.800212",
   "environment_variables": {},
   "exception": null,
   "input_path": "__notebook__.ipynb",
   "output_path": "__notebook__.ipynb",
   "parameters": {},
   "start_time": "2021-06-12T18:54:12.796602",
   "version": "2.3.3"
  }
 },
 "nbformat": 4,
 "nbformat_minor": 5
}
